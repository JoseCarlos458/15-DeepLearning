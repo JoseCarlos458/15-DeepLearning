{
 "cells": [
  {
   "cell_type": "markdown",
   "metadata": {},
   "source": [
    "# Operações de algebra linear usando python"
   ]
  },
  {
   "cell_type": "code",
   "execution_count": null,
   "metadata": {},
   "outputs": [],
   "source": []
  },
  {
   "cell_type": "code",
   "execution_count": null,
   "metadata": {},
   "outputs": [],
   "source": [
    "import numpy as np"
   ]
  },
  {
   "cell_type": "code",
   "execution_count": null,
   "metadata": {},
   "outputs": [],
   "source": [
    "def forloop(x, w): \n",
    "    z = 0.\n",
    "    for i in range(len(x)): \n",
    "        z += x[i] * w[i]\n",
    "    return z\n",
    "\n",
    "def listcomprehension(x, w):\n",
    "    return sum(x_i*w_i for x_i, w_i in zip(x, w))\n",
    "\n",
    "def vectorized(x, w): \n",
    "    return x_vec.dot(w_vec)\n",
    "\n",
    "x, w = np.random.rand(100000), np.random.rand(100000)"
   ]
  },
  {
   "cell_type": "code",
   "execution_count": 3,
   "metadata": {},
   "outputs": [
    {
     "name": "stdout",
     "output_type": "stream",
     "text": [
      "50.7 ms ± 1.05 ms per loop (mean ± std. dev. of 100 runs, 10 loops each)\n"
     ]
    }
   ],
   "source": [
    "%timeit -r 100 -n 10 forloop(x, w)"
   ]
  },
  {
   "cell_type": "code",
   "execution_count": null,
   "metadata": {},
   "outputs": [],
   "source": [
    "%timeit -r 100 -n 10 listcomprehension(x, w)"
   ]
  },
  {
   "cell_type": "code",
   "execution_count": null,
   "metadata": {},
   "outputs": [],
   "source": [
    "%timeit -r 100 -n 10 listcomprehension(x, w)"
   ]
  },
  {
   "cell_type": "code",
   "execution_count": null,
   "metadata": {},
   "outputs": [],
   "source": []
  },
  {
   "cell_type": "code",
   "execution_count": null,
   "metadata": {},
   "outputs": [],
   "source": []
  },
  {
   "cell_type": "code",
   "execution_count": null,
   "metadata": {},
   "outputs": [],
   "source": [
    "X = 2 * np.random.rand(100,1)\n",
    "y = 4 +3 * X+np.random.randn(100,1)"
   ]
  },
  {
   "cell_type": "code",
   "execution_count": null,
   "metadata": {},
   "outputs": [],
   "source": [
    "theta_best = np.linalg.inv(X.T.dot(X)).dot(X.T).dot(y)"
   ]
  },
  {
   "cell_type": "code",
   "execution_count": null,
   "metadata": {},
   "outputs": [],
   "source": [
    "a = np.ones([9, 5, 7, 4])\n",
    "c = np.ones([9, 5, 4, 3])\n",
    "#res=np.matmul(a, c)\n",
    "res=a*c\n",
    "res"
   ]
  },
  {
   "cell_type": "code",
   "execution_count": 23,
   "metadata": {},
   "outputs": [
    {
     "name": "stdout",
     "output_type": "stream",
     "text": [
      "[[1. 1.]\n",
      " [1. 1.]]\n",
      "[[3, 3], [2, 2]]\n",
      "[[5. 5.]\n",
      " [5. 5.]]\n",
      "[[5. 5.]\n",
      " [5. 5.]]\n",
      "[[3. 3.]\n",
      " [2. 2.]]\n",
      "[[3. 3.]\n",
      " [2. 2.]]\n"
     ]
    }
   ],
   "source": [
    "a = np.random.rand(2, 2)\n",
    "c = np.random.rand(2, 2)\n",
    "a = np.ones([2,2])\n",
    "c = np.ones([2,2])\n",
    "\n",
    "c=[[3,3],[2,2]]\n",
    "print(a)\n",
    "print(c)\n",
    "res0=np.dot(a, c)\n",
    "res1=np.matmul(a, c)\n",
    "res2=np.multiply(a, c)\n",
    "res3=a*c\n",
    "print(res0)\n",
    "print(res1)\n",
    "print(res2)\n",
    "print(res3)"
   ]
  },
  {
   "cell_type": "code",
   "execution_count": 31,
   "metadata": {},
   "outputs": [
    {
     "name": "stdout",
     "output_type": "stream",
     "text": [
      "[1, 10, 20]\n",
      "[0, 1, 2]\n"
     ]
    },
    {
     "data": {
      "text/plain": [
       "50"
      ]
     },
     "execution_count": 31,
     "metadata": {},
     "output_type": "execute_result"
    }
   ],
   "source": [
    "a = np.ones([3])\n",
    "a = [1,10,20]\n",
    "c = [0,1,2]\n",
    "print(a)\n",
    "print(c)\n",
    "res0=np.dot(a, c)\n",
    "res0\n"
   ]
  },
  {
   "cell_type": "markdown",
   "metadata": {},
   "source": [
    "output = [1, 10, 20].[0, 1, 2]\n",
    "       = 1*0 + 10*1 + 20*2\n",
    "       = 50"
   ]
  },
  {
   "cell_type": "code",
   "execution_count": 34,
   "metadata": {},
   "outputs": [
    {
     "name": "stdout",
     "output_type": "stream",
     "text": [
      "[[13 16]\n",
      " [43 52]]\n",
      "[[ 6  4]\n",
      " [35 32]]\n"
     ]
    }
   ],
   "source": [
    "#initialize arrays\n",
    "A = np.array([[2, 1], [5, 4]])\n",
    "B = np.array([[3, 4], [7, 8]])\n",
    "\n",
    "#dot product\n",
    "output = np.dot(A, B)\n",
    "print(output)"
   ]
  },
  {
   "cell_type": "markdown",
   "metadata": {},
   "source": [
    "output = [[2, 1], [5, 4]].[[3, 4], [7, 8]] \n",
    "       = [[2*3+1*7, 2*4+1*8], [5*3+4*7, 5*4+4*8]] \n",
    "       = [[13, 16], [43, 52]] "
   ]
  },
  {
   "cell_type": "code",
   "execution_count": null,
   "metadata": {},
   "outputs": [],
   "source": [
    "np.linalg.inv"
   ]
  },
  {
   "cell_type": "code",
   "execution_count": null,
   "metadata": {},
   "outputs": [],
   "source": []
  },
  {
   "cell_type": "markdown",
   "metadata": {},
   "source": [
    "Matriz Inversa\n",
    "\n",
    "Anxn . A-1nxn = A-1nxn . Anxn = Inxn"
   ]
  },
  {
   "cell_type": "code",
   "execution_count": 35,
   "metadata": {},
   "outputs": [
    {
     "name": "stdout",
     "output_type": "stream",
     "text": [
      "[[ 1.33333333 -0.33333333]\n",
      " [-1.66666667  0.66666667]]\n",
      "[[-2.    1.  ]\n",
      " [ 1.75 -0.75]]\n"
     ]
    }
   ],
   "source": [
    "#initialize arrays\n",
    "A = np.array([[2, 1], [5, 4]])\n",
    "B = np.array([[3, 4], [7, 8]])\n",
    "\n",
    "#calculando inversa\n",
    "output = np.linalg.inv(A)\n",
    "print(output)\n",
    "output = np.linalg.inv(B)\n",
    "print(output)"
   ]
  },
  {
   "cell_type": "markdown",
   "metadata": {},
   "source": []
  },
  {
   "cell_type": "code",
   "execution_count": null,
   "metadata": {},
   "outputs": [],
   "source": []
  }
 ],
 "metadata": {
  "kernelspec": {
   "display_name": "Python 3",
   "language": "python",
   "name": "python3"
  },
  "language_info": {
   "codemirror_mode": {
    "name": "ipython",
    "version": 3
   },
   "file_extension": ".py",
   "mimetype": "text/x-python",
   "name": "python",
   "nbconvert_exporter": "python",
   "pygments_lexer": "ipython3",
   "version": "3.8.5"
  }
 },
 "nbformat": 4,
 "nbformat_minor": 2
}
