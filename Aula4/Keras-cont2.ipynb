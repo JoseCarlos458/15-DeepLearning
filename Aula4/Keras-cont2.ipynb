{
 "cells": [
  {
   "cell_type": "code",
   "execution_count": 7,
   "metadata": {},
   "outputs": [
    {
     "name": "stdout",
     "output_type": "stream",
     "text": [
      "Versão Keras : 2.2.4-tf\n",
      "Versão Tensorflow : 2.1.0\n"
     ]
    }
   ],
   "source": [
    "import tensorflow.keras as keras; \n",
    "import tensorflow as tf; \n",
    "\n",
    "import numpy as np\n",
    "import pandas as pd\n",
    "from matplotlib import pyplot\n",
    "\n",
    "from tensorflow.keras import backend as K\n",
    "from tensorflow.keras.models import Sequential, load_model\n",
    "from tensorflow.keras.layers import Dense, Flatten, Dropout, Activation, Conv2D, MaxPooling2D\n",
    "from tensorflow.keras.wrappers.scikit_learn import KerasClassifier\n",
    "\n",
    "from sklearn.datasets import make_regression\n",
    "from sklearn.preprocessing import MinMaxScaler\n",
    "from sklearn.model_selection import train_test_split \n",
    "\n",
    "import numpy as np\n",
    "import pandas as pd\n",
    "\n",
    "print(\"Versão Keras :\" , keras.__version__)\n",
    "print(\"Versão Tensorflow :\" , tf.__version__)"
   ]
  },
  {
   "cell_type": "markdown",
   "metadata": {},
   "source": [
    "## Reuters Dataset\n",
    "\n",
    "* Treino e validação\n",
    "    * Validação do treino é feita após o fim de cada época\n",
    "* Carregando dataset com 10000 paralavras\n"
   ]
  },
  {
   "cell_type": "code",
   "execution_count": 13,
   "metadata": {},
   "outputs": [],
   "source": [
    "from keras.datasets import reuters\n",
    "\n",
    "(train_data, train_labels), (test_data, test_labels) = reuters.load_data(num_words=10000)\n"
   ]
  },
  {
   "cell_type": "code",
   "execution_count": 14,
   "metadata": {},
   "outputs": [
    {
     "name": "stdout",
     "output_type": "stream",
     "text": [
      "(8982,)\n",
      "(8982,)\n",
      "(2246,)\n",
      "(2246,)\n"
     ]
    }
   ],
   "source": [
    "print(train_data.shape) \n",
    "print(train_labels.shape)\n",
    "print(test_data.shape) \n",
    "print(test_labels.shape)"
   ]
  },
  {
   "cell_type": "markdown",
   "metadata": {},
   "source": [
    "## Decodificando notícias"
   ]
  },
  {
   "cell_type": "code",
   "execution_count": 17,
   "metadata": {},
   "outputs": [
    {
     "name": "stdout",
     "output_type": "stream",
     "text": [
      "? generale de banque sa lt ? br and lt heller overseas corp of chicago have each taken 50 pct stakes in ? company sa ? factors generale de banque said in a statement it gave no financial details of the transaction sa ? ? turnover in 1986 was 17 5 billion belgian francs reuter 3\n",
      "---\n",
      "? commercial and industrial loans on the books of the 10 major new york banks excluding acceptances fell 572 mln dlrs to 64 297 billion in the week ended march 11 the federal reserve bank of new york said including acceptances loans fell 475 mln dlrs to 65 16 billion commercial paper outstanding nationally increased 2 98 billion dlrs to 339 00 billion national business loan data are scheduled to be released on friday reuter 3\n"
     ]
    }
   ],
   "source": [
    "word_index = reuters.get_word_index()\n",
    "#print(word_index)\n",
    "reverse_word_index = dict([(value, key) for (key, value) in word_index.items()]) \n",
    "\n",
    "decoded_newswire = ' '.join([reverse_word_index.get(i - 3, '?') for i in train_data[1]])\n",
    "print(decoded_newswire)\n",
    "\n",
    "print('---')\n",
    "\n",
    "decoded_newswire = ' '.join([reverse_word_index.get(i - 3, '?') for i in train_data[15]])\n",
    "print(decoded_newswire)"
   ]
  },
  {
   "cell_type": "code",
   "execution_count": 21,
   "metadata": {},
   "outputs": [
    {
     "data": {
      "text/plain": [
       "array([ 0,  1,  2,  3,  4,  5,  6,  7,  8,  9, 10, 11, 12, 13, 14, 15, 16,\n",
       "       17, 18, 19, 20, 21, 22, 23, 24, 25, 26, 27, 28, 29, 30, 31, 32, 33,\n",
       "       34, 35, 36, 37, 38, 39, 40, 41, 42, 43, 44, 45])"
      ]
     },
     "execution_count": 21,
     "metadata": {},
     "output_type": "execute_result"
    }
   ],
   "source": [
    "#valores únicos de tópicos de notíca\n",
    "np.unique(train_labels)"
   ]
  },
  {
   "cell_type": "code",
   "execution_count": 47,
   "metadata": {},
   "outputs": [],
   "source": [
    "def vectorize_sequences(sequences, dimension=10000):\n",
    "    results = np.zeros((len(sequences), dimension))\n",
    "    for i, sequence in enumerate(sequences):\n",
    "        results[i, sequence] = 1.\n",
    "    return results\n",
    "\n",
    "x_train = vectorize_sequences(train_data)\n",
    "x_test = vectorize_sequences(test_data)"
   ]
  },
  {
   "cell_type": "code",
   "execution_count": 48,
   "metadata": {},
   "outputs": [
    {
     "name": "stdout",
     "output_type": "stream",
     "text": [
      "[0. 1. 0. 0. 0. 0. 0. 0. 0. 0. 0. 0. 0. 0. 0. 0. 0. 0. 0. 0. 0. 0. 0. 0.\n",
      " 0. 0. 0. 0. 0. 0. 0. 0. 0. 0. 0. 0. 0. 0. 0. 0. 0. 0. 0. 0. 0. 0.]\n"
     ]
    }
   ],
   "source": [
    "def to_one_hot(labels, dimension=46):\n",
    "    results = np.zeros((len(labels), dimension))\n",
    "    for i, label in enumerate(labels):\n",
    "        results[i, label] = 1.\n",
    "    return results\n",
    "\n",
    "one_hot_train_labels = to_one_hot(train_labels)\n",
    "one_hot_test_labels = to_one_hot(test_labels)\n",
    "\n",
    "print(one_hot_train_labels[30])\n"
   ]
  },
  {
   "cell_type": "markdown",
   "metadata": {},
   "source": [
    "## Rede Neural para classificação"
   ]
  },
  {
   "cell_type": "code",
   "execution_count": 22,
   "metadata": {},
   "outputs": [],
   "source": [
    "model = Sequential()\n",
    "model.add(Dense(64, activation='relu', input_shape=(10000,)))\n",
    "model.add(Dense(64, activation='relu'))\n",
    "model.add(Dense(46, activation='softmax'))"
   ]
  },
  {
   "cell_type": "code",
   "execution_count": 23,
   "metadata": {},
   "outputs": [],
   "source": [
    "model.compile(optimizer='rmsprop',\n",
    "              loss='categorical_crossentropy',\n",
    "              metrics=['accuracy'])"
   ]
  },
  {
   "cell_type": "markdown",
   "metadata": {},
   "source": [
    "## Definindo uma parte dos dados para treino e outra para validação após cada época"
   ]
  },
  {
   "cell_type": "code",
   "execution_count": 49,
   "metadata": {},
   "outputs": [],
   "source": [
    "x_train80, x_test, y_train80, y_test = train_test_split(x_train, one_hot_train_labels, test_size=0.2, random_state = 42)\n",
    "\n",
    "\n",
    "partial_x_train, x_val, partial_y_train, y_val = train_test_split(x_train80, y_train80, test_size=0.2, random_state = 42)\n"
   ]
  },
  {
   "cell_type": "code",
   "execution_count": 35,
   "metadata": {},
   "outputs": [
    {
     "name": "stdout",
     "output_type": "stream",
     "text": [
      "Train on 5748 samples, validate on 1437 samples\n",
      "Epoch 1/40\n",
      "5748/5748 [==============================] - 1s 91us/sample - loss: 0.1463 - accuracy: 0.9676 - val_loss: 1.4813 - val_accuracy: 0.7759\n",
      "Epoch 2/40\n",
      "5748/5748 [==============================] - 0s 61us/sample - loss: 0.1073 - accuracy: 0.9671 - val_loss: 1.4576 - val_accuracy: 0.7822\n",
      "Epoch 3/40\n",
      "5748/5748 [==============================] - 0s 62us/sample - loss: 0.0903 - accuracy: 0.9673 - val_loss: 1.4277 - val_accuracy: 0.7766\n",
      "Epoch 4/40\n",
      "5748/5748 [==============================] - 0s 69us/sample - loss: 0.0869 - accuracy: 0.9675 - val_loss: 1.4481 - val_accuracy: 0.7850\n",
      "Epoch 5/40\n",
      "5748/5748 [==============================] - 0s 65us/sample - loss: 0.0773 - accuracy: 0.9682 - val_loss: 1.7167 - val_accuracy: 0.7599\n",
      "Epoch 6/40\n",
      "5748/5748 [==============================] - 0s 69us/sample - loss: 0.0804 - accuracy: 0.9683 - val_loss: 1.5530 - val_accuracy: 0.7704\n",
      "Epoch 7/40\n",
      "5748/5748 [==============================] - 0s 67us/sample - loss: 0.0779 - accuracy: 0.9682 - val_loss: 1.5665 - val_accuracy: 0.7752\n",
      "Epoch 8/40\n",
      "5748/5748 [==============================] - 0s 76us/sample - loss: 0.0711 - accuracy: 0.9689 - val_loss: 1.4977 - val_accuracy: 0.7780\n",
      "Epoch 9/40\n",
      "5748/5748 [==============================] - 0s 82us/sample - loss: 0.0781 - accuracy: 0.9668 - val_loss: 1.5714 - val_accuracy: 0.7787\n",
      "Epoch 10/40\n",
      "5748/5748 [==============================] - 0s 63us/sample - loss: 0.0791 - accuracy: 0.9666 - val_loss: 1.5552 - val_accuracy: 0.7787\n",
      "Epoch 11/40\n",
      "5748/5748 [==============================] - 1s 110us/sample - loss: 0.0734 - accuracy: 0.9647 - val_loss: 1.5320 - val_accuracy: 0.7766\n",
      "Epoch 12/40\n",
      "5748/5748 [==============================] - 1s 116us/sample - loss: 0.0747 - accuracy: 0.9664 - val_loss: 1.5042 - val_accuracy: 0.7829\n",
      "Epoch 13/40\n",
      "5748/5748 [==============================] - 1s 119us/sample - loss: 0.0696 - accuracy: 0.9683 - val_loss: 1.6455 - val_accuracy: 0.7676\n",
      "Epoch 14/40\n",
      "5748/5748 [==============================] - 1s 111us/sample - loss: 0.0749 - accuracy: 0.9661 - val_loss: 1.5353 - val_accuracy: 0.7815\n",
      "Epoch 15/40\n",
      "5748/5748 [==============================] - 1s 124us/sample - loss: 0.0721 - accuracy: 0.9659 - val_loss: 1.6075 - val_accuracy: 0.7780\n",
      "Epoch 16/40\n",
      "5748/5748 [==============================] - 1s 125us/sample - loss: 0.0682 - accuracy: 0.9678 - val_loss: 1.6396 - val_accuracy: 0.7780\n",
      "Epoch 17/40\n",
      "5748/5748 [==============================] - 1s 117us/sample - loss: 0.0717 - accuracy: 0.9675 - val_loss: 1.7117 - val_accuracy: 0.7627\n",
      "Epoch 18/40\n",
      "5748/5748 [==============================] - 1s 136us/sample - loss: 0.0724 - accuracy: 0.9671 - val_loss: 1.7193 - val_accuracy: 0.7683\n",
      "Epoch 19/40\n",
      "5748/5748 [==============================] - 1s 118us/sample - loss: 0.0688 - accuracy: 0.9683 - val_loss: 1.6695 - val_accuracy: 0.7655\n",
      "Epoch 20/40\n",
      "5748/5748 [==============================] - 1s 105us/sample - loss: 0.0690 - accuracy: 0.9662 - val_loss: 1.7534 - val_accuracy: 0.7676\n",
      "Epoch 21/40\n",
      "5748/5748 [==============================] - 1s 119us/sample - loss: 0.0652 - accuracy: 0.9690 - val_loss: 1.6960 - val_accuracy: 0.7731\n",
      "Epoch 22/40\n",
      "5748/5748 [==============================] - 1s 119us/sample - loss: 0.0696 - accuracy: 0.9647 - val_loss: 1.7568 - val_accuracy: 0.7669\n",
      "Epoch 23/40\n",
      "5748/5748 [==============================] - 1s 122us/sample - loss: 0.0660 - accuracy: 0.9673 - val_loss: 1.7184 - val_accuracy: 0.7704\n",
      "Epoch 24/40\n",
      "5748/5748 [==============================] - 0s 81us/sample - loss: 0.0657 - accuracy: 0.9699 - val_loss: 1.7566 - val_accuracy: 0.7690\n",
      "Epoch 25/40\n",
      "5748/5748 [==============================] - 0s 83us/sample - loss: 0.0697 - accuracy: 0.9662 - val_loss: 1.8115 - val_accuracy: 0.7634\n",
      "Epoch 26/40\n",
      "5748/5748 [==============================] - 0s 62us/sample - loss: 0.0682 - accuracy: 0.9680 - val_loss: 1.7892 - val_accuracy: 0.7655\n",
      "Epoch 27/40\n",
      "5748/5748 [==============================] - 0s 65us/sample - loss: 0.0684 - accuracy: 0.9664 - val_loss: 1.7265 - val_accuracy: 0.7794\n",
      "Epoch 28/40\n",
      "5748/5748 [==============================] - 0s 64us/sample - loss: 0.0649 - accuracy: 0.9675 - val_loss: 1.7843 - val_accuracy: 0.7634\n",
      "Epoch 29/40\n",
      "5748/5748 [==============================] - 0s 62us/sample - loss: 0.0619 - accuracy: 0.9685 - val_loss: 1.8752 - val_accuracy: 0.7648\n",
      "Epoch 30/40\n",
      "5748/5748 [==============================] - 0s 81us/sample - loss: 0.0684 - accuracy: 0.9675 - val_loss: 1.7358 - val_accuracy: 0.7787\n",
      "Epoch 31/40\n",
      "5748/5748 [==============================] - 1s 101us/sample - loss: 0.0677 - accuracy: 0.9654 - val_loss: 1.7856 - val_accuracy: 0.7787\n",
      "Epoch 32/40\n",
      "5748/5748 [==============================] - 1s 103us/sample - loss: 0.0620 - accuracy: 0.9659 - val_loss: 1.7947 - val_accuracy: 0.7780\n",
      "Epoch 33/40\n",
      "5748/5748 [==============================] - 1s 107us/sample - loss: 0.0672 - accuracy: 0.9671 - val_loss: 1.8810 - val_accuracy: 0.7648\n",
      "Epoch 34/40\n",
      "5748/5748 [==============================] - 1s 94us/sample - loss: 0.0650 - accuracy: 0.9673 - val_loss: 1.8602 - val_accuracy: 0.7704\n",
      "Epoch 35/40\n",
      "5748/5748 [==============================] - 1s 118us/sample - loss: 0.0625 - accuracy: 0.9676 - val_loss: 1.9121 - val_accuracy: 0.7634\n",
      "Epoch 36/40\n",
      "5748/5748 [==============================] - 1s 109us/sample - loss: 0.0632 - accuracy: 0.9656 - val_loss: 1.8974 - val_accuracy: 0.7683\n",
      "Epoch 37/40\n",
      "5748/5748 [==============================] - 1s 113us/sample - loss: 0.0641 - accuracy: 0.9669 - val_loss: 1.9326 - val_accuracy: 0.7683\n",
      "Epoch 38/40\n",
      "5748/5748 [==============================] - 0s 87us/sample - loss: 0.0622 - accuracy: 0.9669 - val_loss: 1.9594 - val_accuracy: 0.7620\n",
      "Epoch 39/40\n",
      "5748/5748 [==============================] - 0s 65us/sample - loss: 0.0636 - accuracy: 0.9673 - val_loss: 1.8511 - val_accuracy: 0.7683\n",
      "Epoch 40/40\n",
      "5748/5748 [==============================] - 1s 94us/sample - loss: 0.0640 - accuracy: 0.9659 - val_loss: 1.9229 - val_accuracy: 0.7641\n"
     ]
    }
   ],
   "source": [
    "history = model.fit(partial_x_train,\n",
    "                    partial_y_train,\n",
    "                    epochs=40,\n",
    "                    batch_size=512,\n",
    "                    validation_data=(x_val, y_val))"
   ]
  },
  {
   "cell_type": "code",
   "execution_count": 36,
   "metadata": {},
   "outputs": [
    {
     "data": {
      "image/png": "[encoded data removed]",
      "text/plain": [
       "<Figure size 432x288 with 1 Axes>"
      ]
     },
     "metadata": {
      "needs_background": "light"
     },
     "output_type": "display_data"
    }
   ],
   "source": [
    "import matplotlib.pyplot as plt\n",
    "loss = history.history['loss']\n",
    "val_loss = history.history['val_loss']\n",
    "epochs = range(1, len(loss) + 1)\n",
    "plt.plot(epochs, loss, 'bo', label='Training loss')\n",
    "plt.plot(epochs, val_loss, 'b', label='Validation loss')\n",
    "plt.title('Training and validation loss')\n",
    "plt.xlabel('Epochs')\n",
    "plt.ylabel('Loss')\n",
    "plt.legend()\n",
    "plt.show()\n"
   ]
  },
  {
   "cell_type": "code",
   "execution_count": 37,
   "metadata": {},
   "outputs": [
    {
     "data": {
      "image/png": "[encoded data removed]",
      "text/plain": [
       "<Figure size 432x288 with 1 Axes>"
      ]
     },
     "metadata": {
      "needs_background": "light"
     },
     "output_type": "display_data"
    }
   ],
   "source": [
    "#plt.clf()\n",
    "acc = history.history['accuracy']\n",
    "val_acc = history.history['val_accuracy']\n",
    "plt.plot(epochs, acc, 'bo', label='Training acc')\n",
    "plt.plot(epochs, val_acc, 'b', label='Validation acc')\n",
    "plt.title('Training and validation accuracy')\n",
    "plt.xlabel('Epochs')\n",
    "plt.ylabel('Loss')\n",
    "plt.legend()\n",
    "plt.show()"
   ]
  },
  {
   "cell_type": "markdown",
   "metadata": {},
   "source": [
    "## avaliação treino e teste"
   ]
  },
  {
   "cell_type": "code",
   "execution_count": 38,
   "metadata": {},
   "outputs": [
    {
     "name": "stdout",
     "output_type": "stream",
     "text": [
      "1797/1797 [==============================] - 0s 122us/sample - loss: 1.8016 - accuracy: 0.7935\n",
      "[1.8016293322170982, 0.79354477]\n"
     ]
    }
   ],
   "source": [
    "#x_train80, x_test, y_train80, y_test\n",
    "score = model.evaluate(x_test, y_test)\n",
    "print(score)\n"
   ]
  },
  {
   "cell_type": "markdown",
   "metadata": {},
   "source": [
    "## Algoritmo aleatório de classificação (Baseline)"
   ]
  },
  {
   "cell_type": "code",
   "execution_count": 40,
   "metadata": {},
   "outputs": [
    {
     "data": {
      "text/plain": [
       "0.18833481745325023"
      ]
     },
     "execution_count": 40,
     "metadata": {},
     "output_type": "execute_result"
    }
   ],
   "source": [
    "import copy\n",
    "\n",
    "#clona variável de label (y)\n",
    "test_labels_copy = copy.copy(test_labels)\n",
    "\n",
    "#troca os valores da variável y aleatoriamente\n",
    "np.random.shuffle(test_labels_copy)\n",
    "\n",
    "#compara os dados da variavel original x variavel aleatoria\n",
    "hits_array = np.array(test_labels) == np.array(test_labels_copy)\n",
    "\n",
    "#divide quantidade de dados igual variavel original = variavel aleatoria / quantidade de registros no dataset\n",
    "float(np.sum(hits_array)) / len(test_labels)"
   ]
  },
  {
   "cell_type": "code",
   "execution_count": 42,
   "metadata": {},
   "outputs": [],
   "source": [
    "## Usando função loss para dados esparsos (classes sem one_hot encoding)"
   ]
  },
  {
   "cell_type": "code",
   "execution_count": 41,
   "metadata": {},
   "outputs": [
    {
     "name": "stdout",
     "output_type": "stream",
     "text": [
      "[ 3  4  3 ... 25  3 25]\n"
     ]
    }
   ],
   "source": [
    "y_train = np.array(train_labels)\n",
    "y_test = np.array(test_labels)\n",
    "print(y_train)\n",
    "\n",
    "x_val = x_train[:1000]\n",
    "partial_x_train = x_train[1000:]\n",
    "y_val = y_train[:1000]\n",
    "partial_y_train = y_train[1000:]"
   ]
  },
  {
   "cell_type": "code",
   "execution_count": null,
   "metadata": {},
   "outputs": [],
   "source": []
  },
  {
   "cell_type": "code",
   "execution_count": null,
   "metadata": {},
   "outputs": [],
   "source": []
  },
  {
   "cell_type": "markdown",
   "metadata": {},
   "source": [
    "### Exemplo de utilização de função de loss para dados esparsos"
   ]
  },
  {
   "cell_type": "code",
   "execution_count": 42,
   "metadata": {},
   "outputs": [],
   "source": [
    "model.compile(optimizer='rmsprop',\n",
    "              loss='sparse_categorical_crossentropy',\n",
    "              metrics=['accuracy'])"
   ]
  },
  {
   "cell_type": "code",
   "execution_count": 43,
   "metadata": {},
   "outputs": [
    {
     "name": "stdout",
     "output_type": "stream",
     "text": [
      "Train on 7982 samples, validate on 1000 samples\n",
      "Epoch 1/40\n",
      "7982/7982 [==============================] - 1s 124us/sample - loss: 0.5679 - accuracy: 0.9029 - val_loss: 0.4806 - val_accuracy: 0.9060\n",
      "Epoch 2/40\n",
      "7982/7982 [==============================] - 0s 55us/sample - loss: 0.3655 - accuracy: 0.9222 - val_loss: 0.4634 - val_accuracy: 0.9090\n",
      "Epoch 3/40\n",
      "7982/7982 [==============================] - 0s 55us/sample - loss: 0.2875 - accuracy: 0.9326 - val_loss: 0.4512 - val_accuracy: 0.9060\n",
      "Epoch 4/40\n",
      "7982/7982 [==============================] - 0s 52us/sample - loss: 0.2346 - accuracy: 0.9392 - val_loss: 0.4576 - val_accuracy: 0.9040\n",
      "Epoch 5/40\n",
      "7982/7982 [==============================] - 0s 55us/sample - loss: 0.1961 - accuracy: 0.9471 - val_loss: 0.4670 - val_accuracy: 0.9100\n",
      "Epoch 6/40\n",
      "7982/7982 [==============================] - 0s 57us/sample - loss: 0.1701 - accuracy: 0.9486 - val_loss: 0.4961 - val_accuracy: 0.9060\n",
      "Epoch 7/40\n",
      "7982/7982 [==============================] - 0s 56us/sample - loss: 0.1505 - accuracy: 0.9535 - val_loss: 0.5034 - val_accuracy: 0.9020\n",
      "Epoch 8/40\n",
      "7982/7982 [==============================] - 0s 53us/sample - loss: 0.1327 - accuracy: 0.9535 - val_loss: 0.5248 - val_accuracy: 0.8990\n",
      "Epoch 9/40\n",
      "7982/7982 [==============================] - 0s 54us/sample - loss: 0.1225 - accuracy: 0.9549 - val_loss: 0.5529 - val_accuracy: 0.8950\n",
      "Epoch 10/40\n",
      "7982/7982 [==============================] - 0s 55us/sample - loss: 0.1138 - accuracy: 0.9572 - val_loss: 0.5600 - val_accuracy: 0.8980\n",
      "Epoch 11/40\n",
      "7982/7982 [==============================] - 0s 53us/sample - loss: 0.1071 - accuracy: 0.9563 - val_loss: 0.5742 - val_accuracy: 0.8980\n",
      "Epoch 12/40\n",
      "7982/7982 [==============================] - 0s 56us/sample - loss: 0.0990 - accuracy: 0.9580 - val_loss: 0.6034 - val_accuracy: 0.9070\n",
      "Epoch 13/40\n",
      "7982/7982 [==============================] - 0s 53us/sample - loss: 0.0957 - accuracy: 0.9582 - val_loss: 0.6052 - val_accuracy: 0.8970\n",
      "Epoch 14/40\n",
      "7982/7982 [==============================] - 0s 56us/sample - loss: 0.0916 - accuracy: 0.9587 - val_loss: 0.6442 - val_accuracy: 0.9020\n",
      "Epoch 15/40\n",
      "7982/7982 [==============================] - 0s 57us/sample - loss: 0.0884 - accuracy: 0.9584 - val_loss: 0.6504 - val_accuracy: 0.8980\n",
      "Epoch 16/40\n",
      "7982/7982 [==============================] - 0s 54us/sample - loss: 0.0863 - accuracy: 0.9598 - val_loss: 0.6771 - val_accuracy: 0.8950\n",
      "Epoch 17/40\n",
      "7982/7982 [==============================] - 1s 67us/sample - loss: 0.0854 - accuracy: 0.9574 - val_loss: 0.6679 - val_accuracy: 0.9000\n",
      "Epoch 18/40\n",
      "7982/7982 [==============================] - 1s 98us/sample - loss: 0.0830 - accuracy: 0.9592 - val_loss: 0.7173 - val_accuracy: 0.8950\n",
      "Epoch 19/40\n",
      "7982/7982 [==============================] - 1s 69us/sample - loss: 0.0799 - accuracy: 0.9580 - val_loss: 0.7064 - val_accuracy: 0.8950\n",
      "Epoch 20/40\n",
      "7982/7982 [==============================] - 0s 56us/sample - loss: 0.0782 - accuracy: 0.9613 - val_loss: 0.7232 - val_accuracy: 0.8880\n",
      "Epoch 21/40\n",
      "7982/7982 [==============================] - 0s 56us/sample - loss: 0.0793 - accuracy: 0.9582 - val_loss: 0.7338 - val_accuracy: 0.8910\n",
      "Epoch 22/40\n",
      "7982/7982 [==============================] - 1s 84us/sample - loss: 0.0775 - accuracy: 0.9578 - val_loss: 0.7441 - val_accuracy: 0.8910\n",
      "Epoch 23/40\n",
      "7982/7982 [==============================] - 1s 100us/sample - loss: 0.0747 - accuracy: 0.9595 - val_loss: 0.7689 - val_accuracy: 0.8940\n",
      "Epoch 24/40\n",
      "7982/7982 [==============================] - 0s 54us/sample - loss: 0.0768 - accuracy: 0.9575 - val_loss: 0.7797 - val_accuracy: 0.8940\n",
      "Epoch 25/40\n",
      "7982/7982 [==============================] - 0s 59us/sample - loss: 0.0763 - accuracy: 0.9558 - val_loss: 0.7868 - val_accuracy: 0.8930\n",
      "Epoch 26/40\n",
      "7982/7982 [==============================] - 1s 82us/sample - loss: 0.0748 - accuracy: 0.9599 - val_loss: 0.7887 - val_accuracy: 0.8860\n",
      "Epoch 27/40\n",
      "7982/7982 [==============================] - 1s 86us/sample - loss: 0.0726 - accuracy: 0.9589 - val_loss: 0.7799 - val_accuracy: 0.8890\n",
      "Epoch 28/40\n",
      "7982/7982 [==============================] - 1s 87us/sample - loss: 0.0740 - accuracy: 0.9583 - val_loss: 0.8038 - val_accuracy: 0.8920\n",
      "Epoch 29/40\n",
      "7982/7982 [==============================] - 0s 53us/sample - loss: 0.0715 - accuracy: 0.9583 - val_loss: 0.8040 - val_accuracy: 0.8920\n",
      "Epoch 30/40\n",
      "7982/7982 [==============================] - 0s 59us/sample - loss: 0.0721 - accuracy: 0.9565 - val_loss: 0.8209 - val_accuracy: 0.8890\n",
      "Epoch 31/40\n",
      "7982/7982 [==============================] - 1s 81us/sample - loss: 0.0721 - accuracy: 0.9587 - val_loss: 0.8510 - val_accuracy: 0.8900\n",
      "Epoch 32/40\n",
      "7982/7982 [==============================] - 1s 84us/sample - loss: 0.0740 - accuracy: 0.9572 - val_loss: 0.8446 - val_accuracy: 0.8950\n",
      "Epoch 33/40\n",
      "7982/7982 [==============================] - 0s 53us/sample - loss: 0.0703 - accuracy: 0.9585 - val_loss: 0.8542 - val_accuracy: 0.8910\n",
      "Epoch 34/40\n",
      "7982/7982 [==============================] - 0s 56us/sample - loss: 0.0718 - accuracy: 0.9569 - val_loss: 0.8910 - val_accuracy: 0.8850\n",
      "Epoch 35/40\n",
      "7982/7982 [==============================] - 0s 50us/sample - loss: 0.0696 - accuracy: 0.9579 - val_loss: 0.8690 - val_accuracy: 0.8840\n",
      "Epoch 36/40\n",
      "7982/7982 [==============================] - 0s 49us/sample - loss: 0.0700 - accuracy: 0.9598 - val_loss: 0.8794 - val_accuracy: 0.8950\n",
      "Epoch 37/40\n",
      "7982/7982 [==============================] - 0s 51us/sample - loss: 0.0687 - accuracy: 0.9597 - val_loss: 0.8854 - val_accuracy: 0.8900\n",
      "Epoch 38/40\n",
      "7982/7982 [==============================] - 0s 50us/sample - loss: 0.0683 - accuracy: 0.9592 - val_loss: 0.8836 - val_accuracy: 0.8900\n",
      "Epoch 39/40\n",
      "7982/7982 [==============================] - 0s 48us/sample - loss: 0.0685 - accuracy: 0.9609 - val_loss: 0.9199 - val_accuracy: 0.8870\n",
      "Epoch 40/40\n",
      "7982/7982 [==============================] - 0s 46us/sample - loss: 0.0700 - accuracy: 0.9583 - val_loss: 0.9407 - val_accuracy: 0.8860\n"
     ]
    }
   ],
   "source": [
    "history = model.fit(partial_x_train,\n",
    "                    partial_y_train,\n",
    "                    epochs=40,\n",
    "                    batch_size=512,\n",
    "                    validation_data=(x_val, y_val))"
   ]
  },
  {
   "cell_type": "code",
   "execution_count": 44,
   "metadata": {},
   "outputs": [
    {
     "data": {
      "image/png": "[encoded data removed]",
      "text/plain": [
       "<Figure size 432x288 with 1 Axes>"
      ]
     },
     "metadata": {
      "needs_background": "light"
     },
     "output_type": "display_data"
    }
   ],
   "source": [
    "import matplotlib.pyplot as plt\n",
    "loss = history.history['loss']\n",
    "val_loss = history.history['val_loss']\n",
    "epochs = range(1, len(loss) + 1)\n",
    "plt.plot(epochs, loss, 'bo', label='Training loss')\n",
    "plt.plot(epochs, val_loss, 'b', label='Validation loss')\n",
    "plt.title('Training and validation loss')\n",
    "plt.xlabel('Epochs')\n",
    "plt.ylabel('Loss')\n",
    "plt.legend()\n",
    "plt.show()"
   ]
  },
  {
   "cell_type": "code",
   "execution_count": 45,
   "metadata": {},
   "outputs": [
    {
     "data": {
      "image/png": "[encoded data removed]",
      "text/plain": [
       "<Figure size 432x288 with 1 Axes>"
      ]
     },
     "metadata": {
      "needs_background": "light"
     },
     "output_type": "display_data"
    }
   ],
   "source": [
    "#plt.clf()\n",
    "acc = history.history['accuracy']\n",
    "val_acc = history.history['val_accuracy']\n",
    "plt.plot(epochs, acc, 'bo', label='Training acc')\n",
    "plt.plot(epochs, val_acc, 'b', label='Validation acc')\n",
    "plt.title('Training and validation accuracy')\n",
    "plt.xlabel('Epochs')\n",
    "plt.ylabel('Loss')\n",
    "plt.legend()\n",
    "plt.show()"
   ]
  },
  {
   "cell_type": "code",
   "execution_count": null,
   "metadata": {},
   "outputs": [],
   "source": []
  },
  {
   "cell_type": "code",
   "execution_count": null,
   "metadata": {},
   "outputs": [],
   "source": []
  },
  {
   "cell_type": "markdown",
   "metadata": {},
   "source": [
    "## Rede Neural com poucos neuronios nas camadas escondidas\n",
    "* Apresenta dificuldade em representar as classes"
   ]
  },
  {
   "cell_type": "code",
   "execution_count": 58,
   "metadata": {},
   "outputs": [
    {
     "name": "stdout",
     "output_type": "stream",
     "text": [
      "Train on 5748 samples, validate on 1437 samples\n",
      "Epoch 1/20\n",
      "5748/5748 [==============================] - 1s 160us/sample - loss: 2.3614 - accuracy: 0.5463 - val_loss: 1.5655 - val_accuracy: 0.6646\n",
      "Epoch 2/20\n",
      "5748/5748 [==============================] - 1s 91us/sample - loss: 1.2350 - accuracy: 0.7305 - val_loss: 1.2588 - val_accuracy: 0.7196\n",
      "Epoch 3/20\n",
      "5748/5748 [==============================] - 0s 81us/sample - loss: 0.8956 - accuracy: 0.8045 - val_loss: 1.1256 - val_accuracy: 0.7564\n",
      "Epoch 4/20\n",
      "5748/5748 [==============================] - 0s 85us/sample - loss: 0.6631 - accuracy: 0.8528 - val_loss: 1.0394 - val_accuracy: 0.7759\n",
      "Epoch 5/20\n",
      "5748/5748 [==============================] - 0s 80us/sample - loss: 0.4884 - accuracy: 0.8989 - val_loss: 1.0046 - val_accuracy: 0.7884\n",
      "Epoch 6/20\n",
      "5748/5748 [==============================] - 0s 84us/sample - loss: 0.3648 - accuracy: 0.9241 - val_loss: 0.9963 - val_accuracy: 0.7836\n",
      "Epoch 7/20\n",
      "5748/5748 [==============================] - 0s 80us/sample - loss: 0.2805 - accuracy: 0.9422 - val_loss: 1.0283 - val_accuracy: 0.7940\n",
      "Epoch 8/20\n",
      "5748/5748 [==============================] - 0s 82us/sample - loss: 0.2256 - accuracy: 0.9495 - val_loss: 1.0819 - val_accuracy: 0.7857\n",
      "Epoch 9/20\n",
      "5748/5748 [==============================] - 0s 81us/sample - loss: 0.1841 - accuracy: 0.9562 - val_loss: 1.0637 - val_accuracy: 0.7933\n",
      "Epoch 10/20\n",
      "5748/5748 [==============================] - 0s 84us/sample - loss: 0.1639 - accuracy: 0.9556 - val_loss: 1.1400 - val_accuracy: 0.7864\n",
      "Epoch 11/20\n",
      "5748/5748 [==============================] - 0s 77us/sample - loss: 0.1407 - accuracy: 0.9603 - val_loss: 1.1958 - val_accuracy: 0.7982\n",
      "Epoch 12/20\n",
      "5748/5748 [==============================] - 0s 83us/sample - loss: 0.1244 - accuracy: 0.9649 - val_loss: 1.2682 - val_accuracy: 0.7829\n",
      "Epoch 13/20\n",
      "5748/5748 [==============================] - 1s 90us/sample - loss: 0.1191 - accuracy: 0.9621 - val_loss: 1.2356 - val_accuracy: 0.7878\n",
      "Epoch 14/20\n",
      "5748/5748 [==============================] - 0s 84us/sample - loss: 0.1132 - accuracy: 0.9633 - val_loss: 1.2859 - val_accuracy: 0.7871\n",
      "Epoch 15/20\n",
      "5748/5748 [==============================] - 1s 88us/sample - loss: 0.1067 - accuracy: 0.9638 - val_loss: 1.3993 - val_accuracy: 0.7850\n",
      "Epoch 16/20\n",
      "5748/5748 [==============================] - 0s 84us/sample - loss: 0.1029 - accuracy: 0.9645 - val_loss: 1.3730 - val_accuracy: 0.7864\n",
      "Epoch 17/20\n",
      "5748/5748 [==============================] - 1s 95us/sample - loss: 0.1019 - accuracy: 0.9628 - val_loss: 1.4479 - val_accuracy: 0.7884\n",
      "Epoch 18/20\n",
      "5748/5748 [==============================] - 0s 80us/sample - loss: 0.0970 - accuracy: 0.9659 - val_loss: 1.4373 - val_accuracy: 0.7884\n",
      "Epoch 19/20\n",
      "5748/5748 [==============================] - 0s 84us/sample - loss: 0.0944 - accuracy: 0.9636 - val_loss: 1.4346 - val_accuracy: 0.7836\n",
      "Epoch 20/20\n",
      "5748/5748 [==============================] - 0s 84us/sample - loss: 0.0923 - accuracy: 0.9643 - val_loss: 1.6162 - val_accuracy: 0.7738\n"
     ]
    }
   ],
   "source": [
    "model = Sequential()\n",
    "model.add(Dense(46, activation='relu', input_shape=(10000,)))\n",
    "model.add(Dense(46, activation='relu'))\n",
    "model.add(Dense(46, activation='softmax'))\n",
    "model.compile(optimizer='rmsprop',\n",
    "              loss='categorical_crossentropy',\n",
    "              metrics=['accuracy'])\n",
    "history=model.fit(partial_x_train,\n",
    "          partial_y_train,\n",
    "          epochs=20,\n",
    "          batch_size=128,\n",
    "          validation_data=(x_val, y_val))"
   ]
  },
  {
   "cell_type": "code",
   "execution_count": 59,
   "metadata": {},
   "outputs": [
    {
     "data": {
      "image/png": "[encoded data removed]",
      "text/plain": [
       "<Figure size 432x288 with 1 Axes>"
      ]
     },
     "metadata": {
      "needs_background": "light"
     },
     "output_type": "display_data"
    }
   ],
   "source": [
    "loss = history.history['loss']\n",
    "val_loss = history.history['val_loss']\n",
    "epochs = range(1, len(loss) + 1)\n",
    "plt.plot(epochs, loss, 'bo', label='Training loss')\n",
    "plt.plot(epochs, val_loss, 'b', label='Validation loss')\n",
    "plt.title('Training and validation loss')\n",
    "plt.xlabel('Epochs')\n",
    "plt.ylabel('Loss')\n",
    "plt.legend()\n",
    "plt.show()"
   ]
  },
  {
   "cell_type": "code",
   "execution_count": 60,
   "metadata": {},
   "outputs": [
    {
     "data": {
      "image/png": "[encoded data removed]",
      "text/plain": [
       "<Figure size 432x288 with 1 Axes>"
      ]
     },
     "metadata": {
      "needs_background": "light"
     },
     "output_type": "display_data"
    }
   ],
   "source": [
    "acc = history.history['accuracy']\n",
    "val_acc = history.history['val_accuracy']\n",
    "plt.plot(epochs, acc, 'bo', label='Training acc')\n",
    "plt.plot(epochs, val_acc, 'b', label='Validation acc')\n",
    "plt.title('Training and validation accuracy')\n",
    "plt.xlabel('Epochs')\n",
    "plt.ylabel('Loss')\n",
    "plt.legend()\n",
    "plt.show()"
   ]
  },
  {
   "cell_type": "markdown",
   "metadata": {},
   "source": [
    "## Exemplo com regressão"
   ]
  },
  {
   "cell_type": "code",
   "execution_count": 61,
   "metadata": {},
   "outputs": [],
   "source": [
    "from keras.datasets import boston_housing\n",
    "(train_data, train_targets), (test_data, test_targets) = boston_housing.load_data()"
   ]
  },
  {
   "cell_type": "code",
   "execution_count": 62,
   "metadata": {},
   "outputs": [
    {
     "name": "stdout",
     "output_type": "stream",
     "text": [
      "(404, 13)\n",
      "(102, 13)\n"
     ]
    }
   ],
   "source": [
    "print(train_data.shape)\n",
    "print(test_data.shape)"
   ]
  },
  {
   "cell_type": "markdown",
   "metadata": {},
   "source": [
    "# Normalização"
   ]
  },
  {
   "cell_type": "code",
   "execution_count": 63,
   "metadata": {},
   "outputs": [],
   "source": [
    "mean = train_data.mean(axis=0)\n",
    "train_data -= mean\n",
    "std = train_data.std(axis=0)\n",
    "train_data /= std\n",
    "test_data -= mean\n",
    "test_data /= std"
   ]
  },
  {
   "cell_type": "markdown",
   "metadata": {},
   "source": [
    "## Diferentes métricas de loss e métrica MSE x MAE"
   ]
  },
  {
   "cell_type": "code",
   "execution_count": 64,
   "metadata": {},
   "outputs": [],
   "source": [
    "from keras import models\n",
    "from keras import layers\n",
    "\n",
    "def build_model():\n",
    "    model = models.Sequential()\n",
    "    model.add(layers.Dense(64, activation='relu',\n",
    "                            input_shape=(train_data.shape[1],)))\n",
    "    model.add(layers.Dense(64, activation='relu'))\n",
    "    model.add(layers.Dense(1))\n",
    "    model.compile(optimizer='rmsprop', loss='mse', metrics=['mae'])\n",
    "    return model"
   ]
  },
  {
   "cell_type": "markdown",
   "metadata": {},
   "source": [
    "## Validando rede neural com k-fold"
   ]
  },
  {
   "cell_type": "code",
   "execution_count": 65,
   "metadata": {},
   "outputs": [],
   "source": [
    "k=2\n",
    "num_val_samples = len(train_data) // k \n",
    "num_epochs = 10\n",
    "all_scores = []"
   ]
  },
  {
   "cell_type": "code",
   "execution_count": 64,
   "metadata": {},
   "outputs": [
    {
     "name": "stdout",
     "output_type": "stream",
     "text": [
      "202\n"
     ]
    }
   ],
   "source": [
    "print(num_val_samples)"
   ]
  },
  {
   "cell_type": "code",
   "execution_count": null,
   "metadata": {},
   "outputs": [],
   "source": []
  },
  {
   "cell_type": "code",
   "execution_count": 66,
   "metadata": {},
   "outputs": [
    {
     "name": "stdout",
     "output_type": "stream",
     "text": [
      "processing fold # 0\n",
      "processing fold # 1\n"
     ]
    }
   ],
   "source": [
    "all_mae_histories = []\n",
    "\n",
    "for i in range(k):\n",
    "    print('processing fold #', i)\n",
    "    val_data = train_data[i * num_val_samples: (i + 1) * num_val_samples] \n",
    "    val_targets = train_targets[i * num_val_samples: (i + 1) * num_val_samples]\n",
    " \n",
    "    partial_train_data = np.concatenate( \n",
    "        [train_data[:i * num_val_samples],\n",
    "        train_data[(i + 1) * num_val_samples:]], \n",
    "        axis=0)\n",
    "\n",
    "    partial_train_targets = np.concatenate( \n",
    "        [train_targets[:i * num_val_samples],\n",
    "        train_targets[(i + 1) * num_val_samples:]], \n",
    "        axis=0)\n",
    "    \n",
    "    model = build_model()\n",
    "    model.fit(partial_train_data, partial_train_targets,\n",
    "        epochs=num_epochs, batch_size=1, verbose=0)\n",
    "    \n",
    "    val_mse, val_mae = model.evaluate(val_data, val_targets, verbose=0)\n",
    "    all_scores.append(val_mae)\n",
    "    \n",
    "    mae_history = history.history['loss']\n",
    "    all_mae_histories.append(mae_history)"
   ]
  },
  {
   "cell_type": "code",
   "execution_count": 67,
   "metadata": {},
   "outputs": [
    {
     "name": "stdout",
     "output_type": "stream",
     "text": [
      "[2.4706645011901855, 2.6350104808807373]\n",
      "2.5528374910354614\n"
     ]
    }
   ],
   "source": [
    "print(all_scores)\n",
    "print(np.mean(all_scores))"
   ]
  },
  {
   "cell_type": "code",
   "execution_count": 68,
   "metadata": {},
   "outputs": [],
   "source": [
    "average_mae_history = [\n",
    "    np.mean([x[i] for x in all_mae_histories]) for i in range(num_epochs)]"
   ]
  },
  {
   "cell_type": "code",
   "execution_count": 69,
   "metadata": {},
   "outputs": [
    {
     "data": {
      "image/png": "[encoded data removed]",
      "text/plain": [
       "<Figure size 432x288 with 1 Axes>"
      ]
     },
     "metadata": {
      "needs_background": "light"
     },
     "output_type": "display_data"
    }
   ],
   "source": [
    "import matplotlib.pyplot as plt\n",
    "plt.plot(range(1, len(average_mae_history) + 1), average_mae_history)\n",
    "plt.xlabel('Epochs')\n",
    "plt.ylabel('Validation MAE')\n",
    "plt.show()"
   ]
  },
  {
   "cell_type": "markdown",
   "metadata": {},
   "source": [
    "# Comparando MSE x MAE"
   ]
  },
  {
   "cell_type": "code",
   "execution_count": 70,
   "metadata": {},
   "outputs": [
    {
     "name": "stdout",
     "output_type": "stream",
     "text": [
      "102/102 [==============================] - 0s 245us/step\n"
     ]
    }
   ],
   "source": [
    "model = build_model()\n",
    "model.fit(train_data, train_targets,\n",
    "  epochs=80, batch_size=16, verbose=0)\n",
    "test_mse_score, test_mae_score = model.evaluate(test_data, test_targets)"
   ]
  },
  {
   "cell_type": "code",
   "execution_count": 71,
   "metadata": {},
   "outputs": [
    {
     "name": "stdout",
     "output_type": "stream",
     "text": [
      "2.6070613861083984\n",
      "15.569475959329043\n"
     ]
    }
   ],
   "source": [
    "print(test_mae_score)\n",
    "\n",
    "print(test_mse_score)"
   ]
  },
  {
   "cell_type": "code",
   "execution_count": null,
   "metadata": {},
   "outputs": [],
   "source": []
  },
  {
   "cell_type": "markdown",
   "metadata": {},
   "source": [
    "## Estratégia de refinamento do modelo\n",
    "* Definindo conjunto de treino, validação e teste\n",
    "    * Treino do modelo é feito na base de treino e avaliado na base de validação\n",
    "    * Otimizações são aplicadas ao modelo\n",
    "    * Treino do modelo na base de treino e validação concatenadas \n",
    "    * Avaliação do modelo na base de teste\n",
    "\n",
    "* k-fold (Adequado para bases pequenas)\n",
    "    * validação utilizando diferentes pequenos conjuntos da base completa"
   ]
  },
  {
   "cell_type": "code",
   "execution_count": null,
   "metadata": {},
   "outputs": [],
   "source": []
  },
  {
   "cell_type": "markdown",
   "metadata": {},
   "source": [
    "## Reuters \n",
    "    \n",
    "* Comparando MLP com dois tipos de ativação \n",
    "    * Relu : Rectified Linear Unit.\n",
    "    * Selu : Scaled Exponential Linear Unit\n",
    "\n",
    "* Estratégia de geração de rede neurais com número variado de camadas\n",
    "\n",
    "'''\n",
    "Klambauer, G., Unterthiner, T., Mayr, A., & Hochreiter, S. (2017).\n",
    "  Self-Normalizing Neural Networks. arXiv preprint arXiv:1706.02515.\n",
    "  https://arxiv.org/abs/1706.02515\n",
    "'''"
   ]
  },
  {
   "cell_type": "code",
   "execution_count": null,
   "metadata": {},
   "outputs": [],
   "source": []
  },
  {
   "cell_type": "code",
   "execution_count": null,
   "metadata": {},
   "outputs": [],
   "source": []
  },
  {
   "cell_type": "code",
   "execution_count": 72,
   "metadata": {},
   "outputs": [
    {
     "name": "stdout",
     "output_type": "stream",
     "text": [
      "Loading data...\n",
      "[ 0  1  2  3  4  5  6  7  8  9 10 11 12 13 14 15 16 17 18 19 20 21 22 23\n",
      " 24 25 26 27 28 29 30 31 32 33 34 35 36 37 38 39 40 41 42 43 44 45]\n",
      "8982 train sequences\n",
      "2246 test sequences\n",
      "46 classes\n",
      "Vectorizing sequence data...\n",
      "x_train shape: (8982, 1000)\n",
      "x_test shape: (2246, 1000)\n",
      "Convert class vector to binary class matrix (for use with categorical_crossentropy)\n",
      "y_train shape: (8982, 46)\n",
      "y_test shape: (2246, 46)\n",
      "\n",
      "Building network 1...\n",
      "Train on 8083 samples, validate on 899 samples\n",
      "Epoch 1/40\n",
      "8083/8083 [==============================] - 4s 468us/step - loss: 3.3324 - accuracy: 0.3197 - val_loss: 2.7880 - val_accuracy: 0.3315\n",
      "Epoch 2/40\n",
      "8083/8083 [==============================] - 4s 438us/step - loss: 2.7174 - accuracy: 0.3533 - val_loss: 2.5803 - val_accuracy: 0.3315\n",
      "Epoch 3/40\n",
      "8083/8083 [==============================] - 3s 428us/step - loss: 2.5864 - accuracy: 0.3544 - val_loss: 2.5133 - val_accuracy: 0.3315\n",
      "Epoch 4/40\n",
      "8083/8083 [==============================] - 3s 406us/step - loss: 2.5273 - accuracy: 0.3577 - val_loss: 2.4911 - val_accuracy: 0.3315\n",
      "Epoch 5/40\n",
      "8083/8083 [==============================] - 3s 412us/step - loss: 2.4911 - accuracy: 0.3677 - val_loss: 2.4690 - val_accuracy: 0.3315\n",
      "Epoch 6/40\n",
      "8083/8083 [==============================] - 3s 402us/step - loss: 2.4603 - accuracy: 0.3808 - val_loss: 2.4473 - val_accuracy: 0.3315\n",
      "Epoch 7/40\n",
      "8083/8083 [==============================] - 3s 411us/step - loss: 2.4155 - accuracy: 0.4088 - val_loss: 2.3874 - val_accuracy: 0.4216\n",
      "Epoch 8/40\n",
      "8083/8083 [==============================] - 3s 420us/step - loss: 2.3912 - accuracy: 0.4250 - val_loss: 2.3588 - val_accuracy: 0.4394\n",
      "Epoch 9/40\n",
      "8083/8083 [==============================] - 3s 429us/step - loss: 2.3456 - accuracy: 0.4415 - val_loss: 2.2820 - val_accuracy: 0.4816\n",
      "Epoch 10/40\n",
      "8083/8083 [==============================] - 3s 432us/step - loss: 2.3284 - accuracy: 0.4480 - val_loss: 2.2955 - val_accuracy: 0.4705\n",
      "Epoch 11/40\n",
      "8083/8083 [==============================] - 4s 441us/step - loss: 2.3173 - accuracy: 0.4582 - val_loss: 2.2402 - val_accuracy: 0.4972\n",
      "Epoch 12/40\n",
      "8083/8083 [==============================] - 3s 429us/step - loss: 2.2928 - accuracy: 0.4683 - val_loss: 2.3311 - val_accuracy: 0.4338\n",
      "Epoch 13/40\n",
      "8083/8083 [==============================] - 3s 426us/step - loss: 2.3270 - accuracy: 0.4423 - val_loss: 2.2939 - val_accuracy: 0.4605\n",
      "Epoch 14/40\n",
      "8083/8083 [==============================] - 3s 406us/step - loss: 2.2930 - accuracy: 0.4570 - val_loss: 2.2151 - val_accuracy: 0.5006\n",
      "Epoch 15/40\n",
      "8083/8083 [==============================] - 3s 407us/step - loss: 2.2865 - accuracy: 0.4642 - val_loss: 2.2268 - val_accuracy: 0.4939\n",
      "Epoch 16/40\n",
      "8083/8083 [==============================] - 3s 415us/step - loss: 2.2726 - accuracy: 0.4716 - val_loss: 2.2002 - val_accuracy: 0.4983\n",
      "Epoch 17/40\n",
      "8083/8083 [==============================] - 3s 419us/step - loss: 2.2544 - accuracy: 0.4810 - val_loss: 2.2307 - val_accuracy: 0.4861\n",
      "Epoch 18/40\n",
      "8083/8083 [==============================] - 3s 408us/step - loss: 2.2440 - accuracy: 0.4841 - val_loss: 2.2261 - val_accuracy: 0.4872\n",
      "Epoch 19/40\n",
      "8083/8083 [==============================] - 3s 424us/step - loss: 2.2224 - accuracy: 0.4903 - val_loss: 2.1779 - val_accuracy: 0.4994\n",
      "Epoch 20/40\n",
      "8083/8083 [==============================] - 3s 416us/step - loss: 2.2183 - accuracy: 0.4904 - val_loss: 2.1896 - val_accuracy: 0.4939\n",
      "Epoch 21/40\n",
      "8083/8083 [==============================] - 3s 422us/step - loss: 2.2117 - accuracy: 0.4914 - val_loss: 2.1650 - val_accuracy: 0.4983\n",
      "Epoch 22/40\n",
      "8083/8083 [==============================] - 3s 419us/step - loss: 2.1821 - accuracy: 0.4983 - val_loss: 2.1538 - val_accuracy: 0.5028\n",
      "Epoch 23/40\n",
      "8083/8083 [==============================] - 3s 426us/step - loss: 2.1876 - accuracy: 0.5013 - val_loss: 2.1909 - val_accuracy: 0.4894\n",
      "Epoch 24/40\n",
      "8083/8083 [==============================] - 3s 417us/step - loss: 2.1738 - accuracy: 0.5059 - val_loss: 2.1585 - val_accuracy: 0.4994\n",
      "Epoch 25/40\n",
      "8083/8083 [==============================] - 3s 428us/step - loss: 2.1769 - accuracy: 0.5025 - val_loss: 2.1457 - val_accuracy: 0.5050\n",
      "Epoch 26/40\n",
      "8083/8083 [==============================] - 3s 421us/step - loss: 2.1761 - accuracy: 0.5025 - val_loss: 2.1720 - val_accuracy: 0.4961\n",
      "Epoch 27/40\n",
      "8083/8083 [==============================] - 3s 420us/step - loss: 2.1608 - accuracy: 0.5061 - val_loss: 2.1597 - val_accuracy: 0.4994\n",
      "Epoch 28/40\n",
      "8083/8083 [==============================] - 4s 437us/step - loss: 2.1662 - accuracy: 0.5019 - val_loss: 2.1555 - val_accuracy: 0.5028\n",
      "Epoch 29/40\n",
      "8083/8083 [==============================] - 4s 433us/step - loss: 2.1580 - accuracy: 0.5059 - val_loss: 2.1514 - val_accuracy: 0.5006\n",
      "Epoch 30/40\n",
      "8083/8083 [==============================] - 4s 443us/step - loss: 2.1457 - accuracy: 0.5102 - val_loss: 2.1515 - val_accuracy: 0.5006\n",
      "Epoch 31/40\n",
      "8083/8083 [==============================] - 3s 428us/step - loss: 2.1388 - accuracy: 0.5108 - val_loss: 2.1375 - val_accuracy: 0.5061\n",
      "Epoch 32/40\n",
      "8083/8083 [==============================] - 3s 431us/step - loss: 2.1289 - accuracy: 0.5148 - val_loss: 2.1380 - val_accuracy: 0.5117\n",
      "Epoch 33/40\n",
      "8083/8083 [==============================] - 3s 427us/step - loss: 2.1409 - accuracy: 0.5119 - val_loss: 2.1415 - val_accuracy: 0.5083\n",
      "Epoch 34/40\n",
      "8083/8083 [==============================] - 3s 426us/step - loss: 2.1403 - accuracy: 0.5111 - val_loss: 2.1513 - val_accuracy: 0.4983\n",
      "Epoch 35/40\n",
      "8083/8083 [==============================] - 3s 417us/step - loss: 2.1274 - accuracy: 0.5135 - val_loss: 2.1473 - val_accuracy: 0.5028\n",
      "Epoch 36/40\n",
      "8083/8083 [==============================] - 3s 418us/step - loss: 2.1375 - accuracy: 0.5113 - val_loss: 2.1451 - val_accuracy: 0.5017\n",
      "Epoch 37/40\n",
      "8083/8083 [==============================] - 3s 419us/step - loss: 2.1405 - accuracy: 0.5131 - val_loss: 2.1447 - val_accuracy: 0.5039\n",
      "Epoch 38/40\n",
      "8083/8083 [==============================] - 3s 419us/step - loss: 2.1229 - accuracy: 0.5160 - val_loss: 2.1518 - val_accuracy: 0.5017\n",
      "Epoch 39/40\n",
      "8083/8083 [==============================] - 3s 421us/step - loss: 2.1209 - accuracy: 0.5154 - val_loss: 2.1679 - val_accuracy: 0.4872\n",
      "Epoch 40/40\n",
      "8083/8083 [==============================] - 3s 416us/step - loss: 2.1288 - accuracy: 0.5221 - val_loss: 2.1567 - val_accuracy: 0.4917\n",
      "2246/2246 [==============================] - 0s 180us/step\n",
      "\n",
      "Building network 2...\n",
      "Train on 8083 samples, validate on 899 samples\n",
      "Epoch 1/40\n",
      "8083/8083 [==============================] - 5s 603us/step - loss: 2.8624 - accuracy: 0.3209 - val_loss: 2.5358 - val_accuracy: 0.4171\n",
      "Epoch 2/40\n",
      "8083/8083 [==============================] - 5s 564us/step - loss: 2.2976 - accuracy: 0.4362 - val_loss: 2.1413 - val_accuracy: 0.5017\n",
      "Epoch 3/40\n",
      "8083/8083 [==============================] - 4s 556us/step - loss: 2.0593 - accuracy: 0.4905 - val_loss: 1.9374 - val_accuracy: 0.5384\n",
      "Epoch 4/40\n",
      "8083/8083 [==============================] - 4s 556us/step - loss: 1.9503 - accuracy: 0.5168 - val_loss: 1.8455 - val_accuracy: 0.5617\n",
      "Epoch 5/40\n",
      "8083/8083 [==============================] - 4s 555us/step - loss: 1.8874 - accuracy: 0.5260 - val_loss: 1.8284 - val_accuracy: 0.5762\n",
      "Epoch 6/40\n",
      "8083/8083 [==============================] - 5s 560us/step - loss: 1.8157 - accuracy: 0.5462 - val_loss: 1.8104 - val_accuracy: 0.5740\n",
      "Epoch 7/40\n",
      "8083/8083 [==============================] - 4s 550us/step - loss: 1.7800 - accuracy: 0.5513 - val_loss: 1.7811 - val_accuracy: 0.5829\n",
      "Epoch 8/40\n",
      "8083/8083 [==============================] - 4s 554us/step - loss: 1.7587 - accuracy: 0.5559 - val_loss: 1.7781 - val_accuracy: 0.5895\n",
      "Epoch 9/40\n",
      "8083/8083 [==============================] - 5s 565us/step - loss: 1.7259 - accuracy: 0.5614 - val_loss: 1.7652 - val_accuracy: 0.5895\n",
      "Epoch 10/40\n",
      "8083/8083 [==============================] - 5s 566us/step - loss: 1.7125 - accuracy: 0.5684 - val_loss: 1.7611 - val_accuracy: 0.5973\n",
      "Epoch 11/40\n",
      "8083/8083 [==============================] - 5s 558us/step - loss: 1.6888 - accuracy: 0.5731 - val_loss: 1.7589 - val_accuracy: 0.5973\n",
      "Epoch 12/40\n",
      "8083/8083 [==============================] - 4s 557us/step - loss: 1.6716 - accuracy: 0.5784 - val_loss: 1.7343 - val_accuracy: 0.5940\n",
      "Epoch 13/40\n",
      "8083/8083 [==============================] - 4s 556us/step - loss: 1.6602 - accuracy: 0.5795 - val_loss: 1.7159 - val_accuracy: 0.5962\n",
      "Epoch 14/40\n",
      "8083/8083 [==============================] - 4s 549us/step - loss: 1.6479 - accuracy: 0.5805 - val_loss: 1.7144 - val_accuracy: 0.6129\n",
      "Epoch 15/40\n",
      "8083/8083 [==============================] - 4s 546us/step - loss: 1.6381 - accuracy: 0.5863 - val_loss: 1.7119 - val_accuracy: 0.6018\n",
      "Epoch 16/40\n",
      "8083/8083 [==============================] - 4s 543us/step - loss: 1.6138 - accuracy: 0.5951 - val_loss: 1.6689 - val_accuracy: 0.6129\n",
      "Epoch 17/40\n",
      "8083/8083 [==============================] - 4s 553us/step - loss: 1.5979 - accuracy: 0.5977 - val_loss: 1.6696 - val_accuracy: 0.6118\n",
      "Epoch 18/40\n",
      "8083/8083 [==============================] - 4s 540us/step - loss: 1.5809 - accuracy: 0.6025 - val_loss: 1.6494 - val_accuracy: 0.6251\n",
      "Epoch 19/40\n",
      "8083/8083 [==============================] - 4s 535us/step - loss: 1.5723 - accuracy: 0.6067 - val_loss: 1.6438 - val_accuracy: 0.6407\n",
      "Epoch 20/40\n",
      "8083/8083 [==============================] - 4s 531us/step - loss: 1.5696 - accuracy: 0.6068 - val_loss: 1.6216 - val_accuracy: 0.6340\n",
      "Epoch 21/40\n",
      "8083/8083 [==============================] - 4s 539us/step - loss: 1.5492 - accuracy: 0.6164 - val_loss: 1.6056 - val_accuracy: 0.6396\n",
      "Epoch 22/40\n",
      "8083/8083 [==============================] - 4s 538us/step - loss: 1.5281 - accuracy: 0.6196 - val_loss: 1.6118 - val_accuracy: 0.6429\n",
      "Epoch 23/40\n",
      "8083/8083 [==============================] - 4s 529us/step - loss: 1.5223 - accuracy: 0.6190 - val_loss: 1.5893 - val_accuracy: 0.6496\n",
      "Epoch 24/40\n",
      "8083/8083 [==============================] - 4s 529us/step - loss: 1.5036 - accuracy: 0.6271 - val_loss: 1.5750 - val_accuracy: 0.6529\n",
      "Epoch 25/40\n",
      "8083/8083 [==============================] - 4s 521us/step - loss: 1.4920 - accuracy: 0.6298 - val_loss: 1.5821 - val_accuracy: 0.6641\n",
      "Epoch 26/40\n",
      "8083/8083 [==============================] - 4s 522us/step - loss: 1.4796 - accuracy: 0.6366 - val_loss: 1.5890 - val_accuracy: 0.6563\n",
      "Epoch 27/40\n",
      "8083/8083 [==============================] - 4s 513us/step - loss: 1.4622 - accuracy: 0.6421 - val_loss: 1.5709 - val_accuracy: 0.6630\n",
      "Epoch 28/40\n",
      "8083/8083 [==============================] - 4s 522us/step - loss: 1.4454 - accuracy: 0.6417 - val_loss: 1.5776 - val_accuracy: 0.6652\n",
      "Epoch 29/40\n",
      "8083/8083 [==============================] - 4s 530us/step - loss: 1.4368 - accuracy: 0.6503 - val_loss: 1.5705 - val_accuracy: 0.6674\n",
      "Epoch 30/40\n",
      "8083/8083 [==============================] - 4s 526us/step - loss: 1.4325 - accuracy: 0.6469 - val_loss: 1.5586 - val_accuracy: 0.6763\n",
      "Epoch 31/40\n",
      "8083/8083 [==============================] - 4s 526us/step - loss: 1.4215 - accuracy: 0.6524 - val_loss: 1.5441 - val_accuracy: 0.6752\n",
      "Epoch 32/40\n",
      "8083/8083 [==============================] - 4s 542us/step - loss: 1.4085 - accuracy: 0.6599 - val_loss: 1.5854 - val_accuracy: 0.6741\n",
      "Epoch 33/40\n",
      "8083/8083 [==============================] - 4s 540us/step - loss: 1.3932 - accuracy: 0.6578 - val_loss: 1.5680 - val_accuracy: 0.6741\n",
      "Epoch 34/40\n",
      "8083/8083 [==============================] - 4s 536us/step - loss: 1.3919 - accuracy: 0.6639 - val_loss: 1.5677 - val_accuracy: 0.6774\n",
      "Epoch 35/40\n",
      "8083/8083 [==============================] - 4s 529us/step - loss: 1.3750 - accuracy: 0.6678 - val_loss: 1.5341 - val_accuracy: 0.6830\n",
      "Epoch 36/40\n",
      "8083/8083 [==============================] - 4s 535us/step - loss: 1.3595 - accuracy: 0.6730 - val_loss: 1.5673 - val_accuracy: 0.6808\n",
      "Epoch 37/40\n",
      "8083/8083 [==============================] - 4s 529us/step - loss: 1.3642 - accuracy: 0.6668 - val_loss: 1.5552 - val_accuracy: 0.6841\n",
      "Epoch 38/40\n",
      "8083/8083 [==============================] - 4s 532us/step - loss: 1.3484 - accuracy: 0.6708 - val_loss: 1.5432 - val_accuracy: 0.6763\n",
      "Epoch 39/40\n",
      "8083/8083 [==============================] - 4s 534us/step - loss: 1.3414 - accuracy: 0.6720 - val_loss: 1.5714 - val_accuracy: 0.6830\n",
      "Epoch 40/40\n",
      "8083/8083 [==============================] - 4s 528us/step - loss: 1.3335 - accuracy: 0.6740 - val_loss: 1.5989 - val_accuracy: 0.6852\n",
      "2246/2246 [==============================] - 0s 214us/step\n",
      "\n",
      "Network 1 results\n",
      "Hyperparameters: {'n_dense': 6, 'dense_units': 16, 'activation': 'relu', 'dropout': <class 'keras.layers.core.Dropout'>, 'dropout_rate': 0.5, 'kernel_initializer': 'glorot_uniform', 'optimizer': 'sgd'}\n",
      "Test score: 2.131792174633974\n",
      "Test accuracy: 0.512911856174469\n",
      "Network 2 results\n",
      "Hyperparameters: {'n_dense': 6, 'dense_units': 16, 'activation': 'selu', 'dropout': <class 'keras.layers.noise.AlphaDropout'>, 'dropout_rate': 0.1, 'kernel_initializer': 'lecun_normal', 'optimizer': 'sgd'}\n",
      "Test score: 1.5273568059117901\n",
      "Test accuracy: 0.6785396337509155\n"
     ]
    },
    {
     "data": {
      "image/png": "[encoded data removed]",
      "text/plain": [
       "<Figure size 432x288 with 1 Axes>"
      ]
     },
     "metadata": {
      "needs_background": "light"
     },
     "output_type": "display_data"
    }
   ],
   "source": [
    "from __future__ import print_function\n",
    "\n",
    "import numpy as np\n",
    "import matplotlib.pyplot as plt\n",
    "import keras\n",
    "from keras.datasets import reuters\n",
    "from keras.models import Sequential\n",
    "from keras.layers import Dense, Activation, Dropout\n",
    "from keras.layers.noise import AlphaDropout\n",
    "from keras.preprocessing.text import Tokenizer\n",
    "\n",
    "max_words = 1000\n",
    "batch_size = 16\n",
    "epochs = 40\n",
    "plot = True\n",
    "\n",
    "def create_network(n_dense=6,\n",
    "                   dense_units=16,\n",
    "                   activation='selu',\n",
    "                   dropout=AlphaDropout,\n",
    "                   dropout_rate=0.1,\n",
    "                   kernel_initializer='lecun_normal',\n",
    "                   optimizer='adam',\n",
    "                   num_classes=1,\n",
    "                   max_words=max_words):\n",
    "    \"\"\"Generic function to create a fully-connected neural network.\n",
    "    # Arguments\n",
    "        n_dense: int > 0. Number of dense layers.\n",
    "        dense_units: int > 0. Number of dense units per layer.\n",
    "        dropout: keras.layers.Layer. A dropout layer to apply.\n",
    "        dropout_rate: 0 <= float <= 1. The rate of dropout.\n",
    "        kernel_initializer: str. The initializer for the weights.\n",
    "        optimizer: str/keras.optimizers.Optimizer. The optimizer to use.\n",
    "        num_classes: int > 0. The number of classes to predict.\n",
    "        max_words: int > 0. The maximum number of words per data point.\n",
    "    # Returns\n",
    "        A Keras model instance (compiled).\n",
    "    \"\"\"\n",
    "    model = Sequential()\n",
    "    model.add(Dense(dense_units, input_shape=(max_words,),\n",
    "                    kernel_initializer=kernel_initializer))\n",
    "    model.add(Activation(activation))\n",
    "    model.add(dropout(dropout_rate))\n",
    "\n",
    "    for i in range(n_dense - 1):\n",
    "        model.add(Dense(dense_units, kernel_initializer=kernel_initializer))\n",
    "        model.add(Activation(activation))\n",
    "        model.add(dropout(dropout_rate))\n",
    "\n",
    "    model.add(Dense(num_classes))\n",
    "    model.add(Activation('softmax'))\n",
    "    model.compile(loss='categorical_crossentropy',\n",
    "                  optimizer=optimizer,\n",
    "                  metrics=['accuracy'])\n",
    "    return model\n",
    "\n",
    "\n",
    "network1 = {\n",
    "    'n_dense': 6,\n",
    "    'dense_units': 16,\n",
    "    'activation': 'relu',\n",
    "    'dropout': Dropout,\n",
    "    'dropout_rate': 0.5,\n",
    "    'kernel_initializer': 'glorot_uniform',\n",
    "    'optimizer': 'sgd'\n",
    "}\n",
    "\n",
    "network2 = {\n",
    "    'n_dense': 6,\n",
    "    'dense_units': 16,\n",
    "    'activation': 'selu',\n",
    "    'dropout': AlphaDropout,\n",
    "    'dropout_rate': 0.1,\n",
    "    'kernel_initializer': 'lecun_normal',\n",
    "    'optimizer': 'sgd'\n",
    "}\n",
    "\n",
    "print('Loading data...')\n",
    "(x_train, y_train), (x_test, y_test) = reuters.load_data(num_words=max_words,\n",
    "                                                         test_split=0.2)\n",
    "\n",
    "print(np.unique(y_test))\n",
    "    \n",
    "#from keras.datasets import imdb\n",
    "#(x_train, y_train), (x_test, y_test) = imdb.load_data(num_words=max_words)#,\n",
    "                                                         #test_split=0.2)\n",
    "\n",
    "    \n",
    "#(x_train, y_train), (x_test, y_test) = imdb.load_data(num_words=max_words)\n",
    "#(train_data, train_labels), (test_data, test_labels) = imdb.load_data(num_words=10000)\n",
    "\n",
    "#XX,yy = imdb.load_data(num_words=max_words)#,\n",
    "\n",
    "#x_train, y_train, x_test, y_test = train_test_split(XX, yy, test_size=0.2, random_state = 42)\n",
    "\n",
    "\n",
    "print(len(x_train), 'train sequences')\n",
    "print(len(x_test), 'test sequences')\n",
    "\n",
    "num_classes = np.max(y_train) + 1\n",
    "print(num_classes, 'classes')\n",
    "\n",
    "print('Vectorizing sequence data...')\n",
    "tokenizer = Tokenizer(num_words=max_words)\n",
    "x_train = tokenizer.sequences_to_matrix(x_train, mode='binary')\n",
    "x_test = tokenizer.sequences_to_matrix(x_test, mode='binary')\n",
    "print('x_train shape:', x_train.shape)\n",
    "print('x_test shape:', x_test.shape)\n",
    "\n",
    "print('Convert class vector to binary class matrix '\n",
    "      '(for use with categorical_crossentropy)')\n",
    "y_train = keras.utils.to_categorical(y_train, num_classes)\n",
    "y_test = keras.utils.to_categorical(y_test, num_classes)\n",
    "print('y_train shape:', y_train.shape)\n",
    "print('y_test shape:', y_test.shape)\n",
    "\n",
    "print('\\nBuilding network 1...')\n",
    "\n",
    "model1 = create_network(num_classes=num_classes, **network1)\n",
    "history_model1 = model1.fit(x_train,\n",
    "                            y_train,\n",
    "                            batch_size=batch_size,\n",
    "                            epochs=epochs,\n",
    "                            verbose=1,\n",
    "                            validation_split=0.1)\n",
    "\n",
    "score_model1 = model1.evaluate(x_test,\n",
    "                               y_test,\n",
    "                               batch_size=batch_size,\n",
    "                               verbose=1)\n",
    "\n",
    "\n",
    "print('\\nBuilding network 2...')\n",
    "model2 = create_network(num_classes=num_classes, **network2)\n",
    "\n",
    "history_model2 = model2.fit(x_train,\n",
    "                            y_train,\n",
    "                            batch_size=batch_size,\n",
    "                            epochs=epochs,\n",
    "                            verbose=1,\n",
    "                            validation_split=0.1)\n",
    "\n",
    "score_model2 = model2.evaluate(x_test,\n",
    "                               y_test,\n",
    "                               batch_size=batch_size,\n",
    "                               verbose=1)\n",
    "\n",
    "print('\\nNetwork 1 results')\n",
    "print('Hyperparameters:', network1)\n",
    "print('Test score:', score_model1[0])\n",
    "print('Test accuracy:', score_model1[1])\n",
    "print('Network 2 results')\n",
    "print('Hyperparameters:', network2)\n",
    "print('Test score:', score_model2[0])\n",
    "print('Test accuracy:', score_model2[1])\n",
    "\n",
    "plt.plot(range(epochs),\n",
    "         history_model1.history['val_loss'],\n",
    "         'g-',\n",
    "         label='Network 1 Val Loss')\n",
    "plt.plot(range(epochs),\n",
    "         history_model2.history['val_loss'],\n",
    "         'r-',\n",
    "         label='Network 2 Val Loss')\n",
    "plt.plot(range(epochs),\n",
    "         history_model1.history['loss'],\n",
    "         'g--',\n",
    "         label='Network 1 Loss')\n",
    "plt.plot(range(epochs),\n",
    "         history_model2.history['loss'],\n",
    "         'r--',\n",
    "         label='Network 2 Loss')\n",
    "plt.xlabel('Epochs')\n",
    "plt.ylabel('Loss')\n",
    "plt.legend()\n",
    "plt.savefig('comparison_of_networks.png')"
   ]
  },
  {
   "cell_type": "markdown",
   "metadata": {},
   "source": [
    "## IMDB\n",
    "* Rede Neural para predição binária\n",
    "* Avaliando Dropout\n"
   ]
  },
  {
   "cell_type": "code",
   "execution_count": 73,
   "metadata": {},
   "outputs": [],
   "source": [
    "from keras.datasets import imdb\n",
    "(train_data, train_labels), (test_data, test_labels) = imdb.load_data(num_words=10000)"
   ]
  },
  {
   "cell_type": "code",
   "execution_count": 74,
   "metadata": {},
   "outputs": [],
   "source": [
    "word_index = imdb.get_word_index()\n",
    "reverse_word_index = dict(\n",
    "     [(value, key) for (key, value) in word_index.items()])\n",
    "\n",
    "decoded_review = ' '.join(\n",
    "    [reverse_word_index.get(i - 3, '?') for i in train_data[0]])"
   ]
  },
  {
   "cell_type": "code",
   "execution_count": 75,
   "metadata": {},
   "outputs": [
    {
     "name": "stdout",
     "output_type": "stream",
     "text": [
      "? this film was just brilliant casting location scenery story direction everyone's really suited the part they played and you could just imagine being there robert ? is an amazing actor and now the same being director ? father came from the same scottish island as myself so i loved the fact there was a real connection with this film the witty remarks throughout the film were great it was just brilliant so much that i bought the film as soon as it was released for ? and would recommend it to everyone to watch and the fly fishing was amazing really cried at the end it was so sad and you know what they say if you cry at a film it must have been good and this definitely was also ? to the two little boy's that played the ? of norman and paul they were just brilliant children are often left out of the ? list i think because the stars that play them all grown up are such a big profile for the whole film but these children are amazing and should be praised for what they have done don't you think the whole story was so lovely because it was true and was someone's life after all that was shared with us all\n"
     ]
    }
   ],
   "source": [
    "print(decoded_review)"
   ]
  },
  {
   "cell_type": "code",
   "execution_count": 76,
   "metadata": {},
   "outputs": [],
   "source": [
    "import numpy as np\n",
    "def vectorize_sequences(sequences, dimension=10000):\n",
    "    results = np.zeros((len(sequences), dimension))\n",
    "    for i, sequence in enumerate(sequences):\n",
    "          results[i, sequence] = 1.\n",
    "    return results\n",
    "x_train = vectorize_sequences(train_data)\n",
    "x_test = vectorize_sequences(test_data)"
   ]
  },
  {
   "cell_type": "code",
   "execution_count": 77,
   "metadata": {},
   "outputs": [],
   "source": [
    "y_train = np.asarray(train_labels).astype('float32')\n",
    "y_test = np.asarray(test_labels).astype('float32')"
   ]
  },
  {
   "cell_type": "code",
   "execution_count": 78,
   "metadata": {},
   "outputs": [],
   "source": [
    "#from keras import models\n",
    "#from keras import layers\n",
    "model = Sequential()\n",
    "model.add(Dense(16, activation='relu', input_shape=(10000,)))\n",
    "model.add(Dense(16, activation='relu'))\n",
    "model.add(Dense(1, activation='sigmoid'))"
   ]
  },
  {
   "cell_type": "code",
   "execution_count": 79,
   "metadata": {},
   "outputs": [],
   "source": [
    "model.compile(optimizer='rmsprop',\n",
    "                      loss='binary_crossentropy',\n",
    "              \n",
    "                      metrics=['accuracy'])"
   ]
  },
  {
   "cell_type": "markdown",
   "metadata": {},
   "source": [
    "Para monitorar durante o treinamento a precisão do modelo em dados nunca antes vistos, \n",
    "você cria um conjunto de validação separando 10.000 amostras dos dados de treinamento originais.\n"
   ]
  },
  {
   "cell_type": "code",
   "execution_count": 80,
   "metadata": {},
   "outputs": [],
   "source": [
    "x_val = x_train[:10000]\n",
    "partial_x_train = x_train[10000:]\n",
    "y_val = y_train[:10000]\n",
    "partial_y_train = y_train[10000:]\n"
   ]
  },
  {
   "cell_type": "code",
   "execution_count": 81,
   "metadata": {},
   "outputs": [
    {
     "name": "stdout",
     "output_type": "stream",
     "text": [
      "Train on 15000 samples, validate on 10000 samples\n",
      "Epoch 1/20\n",
      "15000/15000 [==============================] - 2s 102us/step - loss: 0.5222 - acc: 0.7929 - val_loss: 0.4001 - val_acc: 0.8635\n",
      "Epoch 2/20\n",
      "15000/15000 [==============================] - 1s 85us/step - loss: 0.3187 - acc: 0.9023 - val_loss: 0.3132 - val_acc: 0.8841\n",
      "Epoch 3/20\n",
      "15000/15000 [==============================] - 1s 85us/step - loss: 0.2345 - acc: 0.9255 - val_loss: 0.2847 - val_acc: 0.8869\n",
      "Epoch 4/20\n",
      "15000/15000 [==============================] - 1s 85us/step - loss: 0.1846 - acc: 0.9401 - val_loss: 0.2799 - val_acc: 0.8864\n",
      "Epoch 5/20\n",
      "15000/15000 [==============================] - 1s 85us/step - loss: 0.1512 - acc: 0.9503 - val_loss: 0.2770 - val_acc: 0.8894\n",
      "Epoch 6/20\n",
      "15000/15000 [==============================] - 1s 95us/step - loss: 0.1236 - acc: 0.9623 - val_loss: 0.2876 - val_acc: 0.8872\n",
      "Epoch 7/20\n",
      "15000/15000 [==============================] - 1s 93us/step - loss: 0.1006 - acc: 0.9701 - val_loss: 0.3111 - val_acc: 0.8840\n",
      "Epoch 8/20\n",
      "15000/15000 [==============================] - 1s 95us/step - loss: 0.0840 - acc: 0.9764 - val_loss: 0.3212 - val_acc: 0.8825\n",
      "Epoch 9/20\n",
      "15000/15000 [==============================] - 1s 85us/step - loss: 0.0689 - acc: 0.9811 - val_loss: 0.3482 - val_acc: 0.8789\n",
      "Epoch 10/20\n",
      "15000/15000 [==============================] - 1s 87us/step - loss: 0.0545 - acc: 0.9879 - val_loss: 0.3776 - val_acc: 0.8747\n",
      "Epoch 11/20\n",
      "15000/15000 [==============================] - 1s 85us/step - loss: 0.0445 - acc: 0.9885 - val_loss: 0.4062 - val_acc: 0.8719\n",
      "Epoch 12/20\n",
      "15000/15000 [==============================] - 1s 86us/step - loss: 0.0351 - acc: 0.9922 - val_loss: 0.4283 - val_acc: 0.8784\n",
      "Epoch 13/20\n",
      "15000/15000 [==============================] - 1s 89us/step - loss: 0.0269 - acc: 0.9957 - val_loss: 0.4615 - val_acc: 0.8698\n",
      "Epoch 14/20\n",
      "15000/15000 [==============================] - 1s 85us/step - loss: 0.0237 - acc: 0.9955 - val_loss: 0.4907 - val_acc: 0.8702\n",
      "Epoch 15/20\n",
      "15000/15000 [==============================] - 1s 89us/step - loss: 0.0147 - acc: 0.9985 - val_loss: 0.5352 - val_acc: 0.8646\n",
      "Epoch 16/20\n",
      "15000/15000 [==============================] - 1s 91us/step - loss: 0.0127 - acc: 0.9988 - val_loss: 0.5815 - val_acc: 0.8630\n",
      "Epoch 17/20\n",
      "15000/15000 [==============================] - 1s 86us/step - loss: 0.0112 - acc: 0.9987 - val_loss: 0.5959 - val_acc: 0.8693\n",
      "Epoch 18/20\n",
      "15000/15000 [==============================] - 1s 89us/step - loss: 0.0060 - acc: 0.9998 - val_loss: 0.6457 - val_acc: 0.8688\n",
      "Epoch 19/20\n",
      "15000/15000 [==============================] - 1s 90us/step - loss: 0.0073 - acc: 0.9989 - val_loss: 0.6667 - val_acc: 0.8665\n",
      "Epoch 20/20\n",
      "15000/15000 [==============================] - 1s 92us/step - loss: 0.0032 - acc: 0.9999 - val_loss: 0.6995 - val_acc: 0.8652\n"
     ]
    }
   ],
   "source": [
    "model.compile(optimizer='rmsprop',\n",
    "              loss='binary_crossentropy',\n",
    "              metrics=['acc'])\n",
    "history = model.fit(partial_x_train,\n",
    "                    partial_y_train,\n",
    "                    epochs=20,\n",
    "                    batch_size=512,\n",
    "                    validation_data=(x_val, y_val))\n"
   ]
  },
  {
   "cell_type": "code",
   "execution_count": 82,
   "metadata": {},
   "outputs": [
    {
     "data": {
      "image/png": "[encoded data removed]",
      "text/plain": [
       "<Figure size 432x288 with 1 Axes>"
      ]
     },
     "metadata": {
      "needs_background": "light"
     },
     "output_type": "display_data"
    }
   ],
   "source": [
    "loss = history.history['loss']\n",
    "val_loss = history.history['val_loss']\n",
    "epochs = range(1, len(loss) + 1)\n",
    "plt.plot(epochs, loss, 'bo', label='Training loss')\n",
    "plt.plot(epochs, val_loss, 'b', label='Validation loss')\n",
    "plt.title('Training and validation loss')\n",
    "plt.xlabel('Epochs')\n",
    "plt.ylabel('Loss')\n",
    "plt.legend()\n",
    "plt.show()"
   ]
  },
  {
   "cell_type": "code",
   "execution_count": 83,
   "metadata": {},
   "outputs": [
    {
     "data": {
      "image/png": "[encoded data removed]",
      "text/plain": [
       "<Figure size 432x288 with 1 Axes>"
      ]
     },
     "metadata": {
      "needs_background": "light"
     },
     "output_type": "display_data"
    }
   ],
   "source": [
    "acc = history.history['acc']\n",
    "val_acc = history.history['val_acc']\n",
    "plt.plot(epochs, acc, 'bo', label='Training acc')\n",
    "plt.plot(epochs, val_acc, 'b', label='Validation acc')\n",
    "plt.title('Training and validation accuracy')\n",
    "plt.xlabel('Epochs')\n",
    "plt.ylabel('accuracy')\n",
    "plt.legend()\n",
    "plt.show()"
   ]
  },
  {
   "cell_type": "code",
   "execution_count": 90,
   "metadata": {},
   "outputs": [
    {
     "name": "stdout",
     "output_type": "stream",
     "text": [
      "Train on 15000 samples, validate on 10000 samples\n",
      "Epoch 1/10\n",
      "15000/15000 [==============================] - 1s 80us/step - loss: 0.6317 - acc: 0.6338 - val_loss: 0.5225 - val_acc: 0.8278\n",
      "Epoch 2/10\n",
      "15000/15000 [==============================] - 1s 68us/step - loss: 0.5124 - acc: 0.7619 - val_loss: 0.4205 - val_acc: 0.8709\n",
      "Epoch 3/10\n",
      "15000/15000 [==============================] - 1s 67us/step - loss: 0.4295 - acc: 0.8285 - val_loss: 0.3467 - val_acc: 0.8746\n",
      "Epoch 4/10\n",
      "15000/15000 [==============================] - 1s 68us/step - loss: 0.3666 - acc: 0.8605 - val_loss: 0.3048 - val_acc: 0.8866\n",
      "Epoch 5/10\n",
      "15000/15000 [==============================] - 1s 67us/step - loss: 0.3146 - acc: 0.8872 - val_loss: 0.2859 - val_acc: 0.8893\n",
      "Epoch 6/10\n",
      "15000/15000 [==============================] - 1s 68us/step - loss: 0.2778 - acc: 0.9061 - val_loss: 0.2763 - val_acc: 0.8898\n",
      "Epoch 7/10\n",
      "15000/15000 [==============================] - 1s 70us/step - loss: 0.2431 - acc: 0.9208 - val_loss: 0.2864 - val_acc: 0.8884\n",
      "Epoch 8/10\n",
      "15000/15000 [==============================] - 1s 69us/step - loss: 0.2154 - acc: 0.9281 - val_loss: 0.2838 - val_acc: 0.8903\n",
      "Epoch 9/10\n",
      "15000/15000 [==============================] - 1s 71us/step - loss: 0.1869 - acc: 0.9380 - val_loss: 0.2936 - val_acc: 0.8848\n",
      "Epoch 10/10\n",
      "15000/15000 [==============================] - 1s 72us/step - loss: 0.1757 - acc: 0.9410 - val_loss: 0.3303 - val_acc: 0.8865\n"
     ]
    }
   ],
   "source": [
    "model = models.Sequential()\n",
    "model.add(layers.Dense(16, activation='relu', input_shape=(10000,)))\n",
    "model.add(layers.Dropout(0.5))\n",
    "model.add(layers.Dense(16, activation='relu'))\n",
    "model.add(layers.Dropout(0.5))\n",
    "model.add(layers.Dense(1, activation='sigmoid'))\n",
    "\n",
    "model.compile(optimizer='rmsprop',\n",
    "              loss='binary_crossentropy',\n",
    "              metrics=['acc'])\n",
    "history = model.fit(partial_x_train,\n",
    "                    partial_y_train,\n",
    "                    epochs=10,\n",
    "                    batch_size=512,\n",
    "                    validation_data=(x_val, y_val))"
   ]
  },
  {
   "cell_type": "code",
   "execution_count": 91,
   "metadata": {},
   "outputs": [
    {
     "data": {
      "image/png": "[encoded data removed]",
      "text/plain": [
       "<Figure size 432x288 with 1 Axes>"
      ]
     },
     "metadata": {
      "needs_background": "light"
     },
     "output_type": "display_data"
    }
   ],
   "source": [
    "loss = history.history['loss']\n",
    "val_loss = history.history['val_loss']\n",
    "epochs = range(1, len(loss) + 1)\n",
    "plt.plot(epochs, loss, 'bo', label='Training loss')\n",
    "plt.plot(epochs, val_loss, 'b', label='Validation loss')\n",
    "plt.title('Training and validation loss')\n",
    "plt.xlabel('Epochs')\n",
    "plt.ylabel('Loss')\n",
    "plt.legend()\n",
    "plt.show()"
   ]
  },
  {
   "cell_type": "code",
   "execution_count": 92,
   "metadata": {},
   "outputs": [
    {
     "data": {
      "image/png": "[encoded data removed]",
      "text/plain": [
       "<Figure size 432x288 with 1 Axes>"
      ]
     },
     "metadata": {
      "needs_background": "light"
     },
     "output_type": "display_data"
    }
   ],
   "source": [
    "acc = history.history['acc']\n",
    "val_acc = history.history['val_acc']\n",
    "plt.plot(epochs, acc, 'bo', label='Training acc')\n",
    "plt.plot(epochs, val_acc, 'b', label='Validation acc')\n",
    "plt.title('Training and validation accuracy')\n",
    "plt.xlabel('Epochs')\n",
    "plt.ylabel('Loss')\n",
    "plt.legend()\n",
    "plt.show()"
   ]
  },
  {
   "cell_type": "code",
   "execution_count": null,
   "metadata": {},
   "outputs": [],
   "source": []
  }
 ],
 "metadata": {
  "kernelspec": {
   "display_name": "Python 3",
   "language": "python",
   "name": "python3"
  },
  "language_info": {
   "codemirror_mode": {
    "name": "ipython",
    "version": 3
   },
   "file_extension": ".py",
   "mimetype": "text/x-python",
   "name": "python",
   "nbconvert_exporter": "python",
   "pygments_lexer": "ipython3",
   "version": "3.6.9"
  }
 },
 "nbformat": 4,
 "nbformat_minor": 4
}
