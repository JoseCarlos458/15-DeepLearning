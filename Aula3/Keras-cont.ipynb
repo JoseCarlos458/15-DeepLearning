{
 "cells": [
  {
   "cell_type": "code",
   "execution_count": 28,
   "metadata": {},
   "outputs": [
    {
     "name": "stdout",
     "output_type": "stream",
     "text": [
      "Versão Keras : 2.2.4-tf\n",
      "Versão Tensorflow : 2.1.0\n"
     ]
    }
   ],
   "source": [
    "import tensorflow.keras as keras; \n",
    "import tensorflow as tf; \n",
    "\n",
    "import numpy as np\n",
    "import pandas as pd\n",
    "from matplotlib import pyplot\n",
    "\n",
    "from tensorflow.keras import backend as K\n",
    "from tensorflow.keras.models import Sequential, load_model\n",
    "from tensorflow.keras.layers import Dense, Flatten, Dropout, Activation, Conv2D, MaxPooling2D\n",
    "from tensorflow.keras.wrappers.scikit_learn import KerasClassifier\n",
    "\n",
    "from sklearn.datasets import make_regression\n",
    "from sklearn.preprocessing import MinMaxScaler\n",
    "from sklearn.model_selection import train_test_split \n",
    "\n",
    "import numpy as np\n",
    "import pandas as pd\n",
    "\n",
    "print(\"Versão Keras :\" , keras.__version__)\n",
    "print(\"Versão Tensorflow :\" , tf.__version__)"
   ]
  },
  {
   "cell_type": "markdown",
   "metadata": {},
   "source": [
    "## Reuters Dataset\n",
    "\n",
    "* Treino e validação\n",
    "    * Validação do treino é feita após o fim de cada época\n",
    "* Carregando dataset com 10000 paralavras\n"
   ]
  },
  {
   "cell_type": "code",
   "execution_count": 11,
   "metadata": {},
   "outputs": [],
   "source": [
    "from keras.datasets import reuters\n",
    "\n",
    "(train_data, train_labels), (test_data, test_labels) = reuters.load_data(num_words=10000)\n"
   ]
  },
  {
   "cell_type": "code",
   "execution_count": 12,
   "metadata": {},
   "outputs": [
    {
     "name": "stdout",
     "output_type": "stream",
     "text": [
      "(8982,)\n",
      "(8982,)\n",
      "(2246,)\n",
      "(2246,)\n"
     ]
    }
   ],
   "source": [
    "print(train_data.shape) \n",
    "print(train_labels.shape)\n",
    "print(test_data.shape) \n",
    "print(test_labels.shape)"
   ]
  },
  {
   "cell_type": "markdown",
   "metadata": {},
   "source": [
    "## Decodificando notícias"
   ]
  },
  {
   "cell_type": "code",
   "execution_count": 14,
   "metadata": {},
   "outputs": [
    {
     "name": "stdout",
     "output_type": "stream",
     "text": [
      "? generale de banque sa lt ? br and lt heller overseas corp of chicago have each taken 50 pct stakes in ? company sa ? factors generale de banque said in a statement it gave no financial details of the transaction sa ? ? turnover in 1986 was 17 5 billion belgian francs reuter 3\n",
      "---\n",
      "? commercial and industrial loans on the books of the 10 major new york banks excluding acceptances fell 572 mln dlrs to 64 297 billion in the week ended march 11 the federal reserve bank of new york said including acceptances loans fell 475 mln dlrs to 65 16 billion commercial paper outstanding nationally increased 2 98 billion dlrs to 339 00 billion national business loan data are scheduled to be released on friday reuter 3\n"
     ]
    }
   ],
   "source": [
    "word_index = reuters.get_word_index()\n",
    "\n",
    "reverse_word_index = dict([(value, key) for (key, value) in word_index.items()]) \n",
    "\n",
    "decoded_newswire = ' '.join([reverse_word_index.get(i - 3, '?') for i in train_data[1]])\n",
    "print(decoded_newswire)\n",
    "\n",
    "print('---')\n",
    "\n",
    "decoded_newswire = ' '.join([reverse_word_index.get(i - 3, '?') for i in train_data[15]])\n",
    "print(decoded_newswire)"
   ]
  },
  {
   "cell_type": "code",
   "execution_count": 21,
   "metadata": {},
   "outputs": [
    {
     "data": {
      "text/plain": [
       "array([ 0,  1,  2,  3,  4,  5,  6,  7,  8,  9, 10, 11, 12, 13, 14, 15, 16,\n",
       "       17, 18, 19, 20, 21, 22, 23, 24, 25, 26, 27, 28, 29, 30, 31, 32, 33,\n",
       "       34, 35, 36, 37, 38, 39, 40, 41, 42, 43, 44, 45])"
      ]
     },
     "execution_count": 21,
     "metadata": {},
     "output_type": "execute_result"
    }
   ],
   "source": [
    "#valores únicos de tópicos de notíca\n",
    "np.unique(train_labels)"
   ]
  },
  {
   "cell_type": "code",
   "execution_count": 22,
   "metadata": {},
   "outputs": [],
   "source": [
    "def vectorize_sequences(sequences, dimension=10000):\n",
    "    results = np.zeros((len(sequences), dimension))\n",
    "    for i, sequence in enumerate(sequences):\n",
    "        results[i, sequence] = 1.\n",
    "    return results\n",
    "\n",
    "x_train = vectorize_sequences(train_data)\n",
    "x_test = vectorize_sequences(test_data)"
   ]
  },
  {
   "cell_type": "code",
   "execution_count": 24,
   "metadata": {},
   "outputs": [
    {
     "name": "stdout",
     "output_type": "stream",
     "text": [
      "[0. 0. 0. 1. 0. 0. 0. 0. 0. 0. 0. 0. 0. 0. 0. 0. 0. 0. 0. 0. 0. 0. 0. 0.\n",
      " 0. 0. 0. 0. 0. 0. 0. 0. 0. 0. 0. 0. 0. 0. 0. 0. 0. 0. 0. 0. 0. 0.]\n"
     ]
    }
   ],
   "source": [
    "def to_one_hot(labels, dimension=46):\n",
    "    results = np.zeros((len(labels), dimension))\n",
    "    for i, label in enumerate(labels):\n",
    "        results[i, label] = 1.\n",
    "    return results\n",
    "\n",
    "one_hot_train_labels = to_one_hot(train_labels)\n",
    "one_hot_test_labels = to_one_hot(test_labels)\n",
    "\n",
    "print(one_hot_train_labels[0])\n"
   ]
  },
  {
   "cell_type": "markdown",
   "metadata": {},
   "source": [
    "## Rede Neural para classificação"
   ]
  },
  {
   "cell_type": "code",
   "execution_count": 25,
   "metadata": {},
   "outputs": [],
   "source": [
    "model = Sequential()\n",
    "model.add(Dense(64, activation='relu', input_shape=(10000,)))\n",
    "model.add(Dense(64, activation='relu'))\n",
    "model.add(Dense(46, activation='softmax'))"
   ]
  },
  {
   "cell_type": "code",
   "execution_count": 26,
   "metadata": {},
   "outputs": [],
   "source": [
    "model.compile(optimizer='rmsprop',\n",
    "              loss='categorical_crossentropy',\n",
    "              metrics=['accuracy'])"
   ]
  },
  {
   "cell_type": "markdown",
   "metadata": {},
   "source": [
    "## Definindo uma parte dos dados para treino e outra para validação após cada época"
   ]
  },
  {
   "cell_type": "code",
   "execution_count": 50,
   "metadata": {},
   "outputs": [],
   "source": [
    "x_train80, x_test, y_train80, y_test = train_test_split(x_train, one_hot_train_labels, test_size=0.2, random_state = 42)\n",
    "\n",
    "partial_x_train, x_val, partial_y_train, y_val = train_test_split(x_train80, y_train80, test_size=0.2, random_state = 42)\n"
   ]
  },
  {
   "cell_type": "code",
   "execution_count": 34,
   "metadata": {},
   "outputs": [
    {
     "name": "stdout",
     "output_type": "stream",
     "text": [
      "Train on 5748 samples, validate on 1437 samples\n",
      "Epoch 1/20\n",
      "5748/5748 [==============================] - 1s 218us/sample - loss: 2.8313 - accuracy: 0.5136 - val_loss: 1.9437 - val_accuracy: 0.6159\n",
      "Epoch 2/20\n",
      "5748/5748 [==============================] - 0s 59us/sample - loss: 1.5706 - accuracy: 0.6983 - val_loss: 1.4620 - val_accuracy: 0.6931\n",
      "Epoch 3/20\n",
      "5748/5748 [==============================] - 0s 62us/sample - loss: 1.1394 - accuracy: 0.7695 - val_loss: 1.2928 - val_accuracy: 0.7182\n",
      "Epoch 4/20\n",
      "5748/5748 [==============================] - 0s 58us/sample - loss: 0.9034 - accuracy: 0.8163 - val_loss: 1.2018 - val_accuracy: 0.7460\n",
      "Epoch 5/20\n",
      "5748/5748 [==============================] - 0s 59us/sample - loss: 0.7360 - accuracy: 0.8504 - val_loss: 1.1227 - val_accuracy: 0.7530\n",
      "Epoch 6/20\n",
      "5748/5748 [==============================] - 0s 59us/sample - loss: 0.5998 - accuracy: 0.8767 - val_loss: 1.0958 - val_accuracy: 0.7509\n",
      "Epoch 7/20\n",
      "5748/5748 [==============================] - 0s 58us/sample - loss: 0.4977 - accuracy: 0.9019 - val_loss: 1.0422 - val_accuracy: 0.7745\n",
      "Epoch 8/20\n",
      "5748/5748 [==============================] - 0s 56us/sample - loss: 0.4059 - accuracy: 0.9201 - val_loss: 1.0201 - val_accuracy: 0.7808\n",
      "Epoch 9/20\n",
      "5748/5748 [==============================] - 0s 58us/sample - loss: 0.3388 - accuracy: 0.9337 - val_loss: 1.0620 - val_accuracy: 0.7759\n",
      "Epoch 10/20\n",
      "5748/5748 [==============================] - 0s 58us/sample - loss: 0.2825 - accuracy: 0.9433 - val_loss: 1.0598 - val_accuracy: 0.7676\n",
      "Epoch 11/20\n",
      "5748/5748 [==============================] - 0s 58us/sample - loss: 0.2361 - accuracy: 0.9497 - val_loss: 1.0446 - val_accuracy: 0.7787\n",
      "Epoch 12/20\n",
      "5748/5748 [==============================] - 0s 57us/sample - loss: 0.2028 - accuracy: 0.9532 - val_loss: 1.0495 - val_accuracy: 0.7919\n",
      "Epoch 13/20\n",
      "5748/5748 [==============================] - 0s 46us/sample - loss: 0.1782 - accuracy: 0.9595 - val_loss: 1.0832 - val_accuracy: 0.7850\n",
      "Epoch 14/20\n",
      "5748/5748 [==============================] - 0s 47us/sample - loss: 0.1560 - accuracy: 0.9617 - val_loss: 1.0726 - val_accuracy: 0.7912\n",
      "Epoch 15/20\n",
      "5748/5748 [==============================] - 0s 53us/sample - loss: 0.1461 - accuracy: 0.9600 - val_loss: 1.1258 - val_accuracy: 0.7878\n",
      "Epoch 16/20\n",
      "5748/5748 [==============================] - 0s 57us/sample - loss: 0.1291 - accuracy: 0.9640 - val_loss: 1.1450 - val_accuracy: 0.7864\n",
      "Epoch 17/20\n",
      "5748/5748 [==============================] - 0s 57us/sample - loss: 0.1201 - accuracy: 0.9633 - val_loss: 1.1777 - val_accuracy: 0.7884\n",
      "Epoch 18/20\n",
      "5748/5748 [==============================] - 0s 57us/sample - loss: 0.1111 - accuracy: 0.9645 - val_loss: 1.2794 - val_accuracy: 0.7752\n",
      "Epoch 19/20\n",
      "5748/5748 [==============================] - 0s 55us/sample - loss: 0.1105 - accuracy: 0.9642 - val_loss: 1.1634 - val_accuracy: 0.7878\n",
      "Epoch 20/20\n",
      "5748/5748 [==============================] - 0s 57us/sample - loss: 0.1032 - accuracy: 0.9656 - val_loss: 1.2790 - val_accuracy: 0.7787\n"
     ]
    }
   ],
   "source": [
    "history = model.fit(partial_x_train,\n",
    "                    partial_y_train,\n",
    "                    epochs=20,\n",
    "                    batch_size=512,\n",
    "                    validation_data=(x_val, y_val))"
   ]
  },
  {
   "cell_type": "code",
   "execution_count": 35,
   "metadata": {},
   "outputs": [
    {
     "data": {
      "image/png": "[encoded data removed]",
      "text/plain": [
       "<Figure size 432x288 with 1 Axes>"
      ]
     },
     "metadata": {
      "needs_background": "light"
     },
     "output_type": "display_data"
    }
   ],
   "source": [
    "import matplotlib.pyplot as plt\n",
    "loss = history.history['loss']\n",
    "val_loss = history.history['val_loss']\n",
    "epochs = range(1, len(loss) + 1)\n",
    "plt.plot(epochs, loss, 'bo', label='Training loss')\n",
    "plt.plot(epochs, val_loss, 'b', label='Validation loss')\n",
    "plt.title('Training and validation loss')\n",
    "plt.xlabel('Epochs')\n",
    "plt.ylabel('Loss')\n",
    "plt.legend()\n",
    "plt.show()\n"
   ]
  },
  {
   "cell_type": "code",
   "execution_count": 36,
   "metadata": {},
   "outputs": [
    {
     "data": {
      "image/png": "[encoded data removed]",
      "text/plain": [
       "<Figure size 432x288 with 1 Axes>"
      ]
     },
     "metadata": {
      "needs_background": "light"
     },
     "output_type": "display_data"
    }
   ],
   "source": [
    "#plt.clf()\n",
    "acc = history.history['accuracy']\n",
    "val_acc = history.history['val_accuracy']\n",
    "plt.plot(epochs, acc, 'bo', label='Training acc')\n",
    "plt.plot(epochs, val_acc, 'b', label='Validation acc')\n",
    "plt.title('Training and validation accuracy')\n",
    "plt.xlabel('Epochs')\n",
    "plt.ylabel('Loss')\n",
    "plt.legend()\n",
    "plt.show()"
   ]
  },
  {
   "cell_type": "markdown",
   "metadata": {},
   "source": [
    "## avaliação treino e teste"
   ]
  },
  {
   "cell_type": "code",
   "execution_count": 39,
   "metadata": {},
   "outputs": [
    {
     "name": "stdout",
     "output_type": "stream",
     "text": [
      "1797/1797 [==============================] - 0s 122us/sample - loss: 1.1609 - accuracy: 0.7869\n",
      "[1.1609310898836547, 0.786867]\n"
     ]
    }
   ],
   "source": [
    "#x_train80, x_test, y_train80, y_test\n",
    "score = model.evaluate(x_test, y_test)\n",
    "print(score)\n"
   ]
  },
  {
   "cell_type": "markdown",
   "metadata": {},
   "source": [
    "## Algoritmo aleatório de classificação (Baseline)"
   ]
  },
  {
   "cell_type": "code",
   "execution_count": 40,
   "metadata": {},
   "outputs": [
    {
     "data": {
      "text/plain": [
       "0.19011576135351738"
      ]
     },
     "execution_count": 40,
     "metadata": {},
     "output_type": "execute_result"
    }
   ],
   "source": [
    "import copy\n",
    "test_labels_copy = copy.copy(test_labels)\n",
    "np.random.shuffle(test_labels_copy)\n",
    "hits_array = np.array(test_labels) == np.array(test_labels_copy)\n",
    "float(np.sum(hits_array)) / len(test_labels)"
   ]
  },
  {
   "cell_type": "code",
   "execution_count": 42,
   "metadata": {},
   "outputs": [],
   "source": [
    "## Usando função loss para dados esparsos (classes sem one_hot encoding)"
   ]
  },
  {
   "cell_type": "code",
   "execution_count": 43,
   "metadata": {},
   "outputs": [
    {
     "name": "stdout",
     "output_type": "stream",
     "text": [
      "[ 3  4  3 ... 25  3 25]\n"
     ]
    }
   ],
   "source": [
    "y_train = np.array(train_labels)\n",
    "y_test = np.array(test_labels)\n",
    "print(y_train)\n",
    "\n",
    "x_val = x_train[:1000]\n",
    "partial_x_train = x_train[1000:]\n",
    "y_val = y_train[:1000]\n",
    "partial_y_train = y_train[1000:]"
   ]
  },
  {
   "cell_type": "code",
   "execution_count": null,
   "metadata": {},
   "outputs": [],
   "source": []
  },
  {
   "cell_type": "code",
   "execution_count": null,
   "metadata": {},
   "outputs": [],
   "source": []
  },
  {
   "cell_type": "markdown",
   "metadata": {},
   "source": [
    "### Exemplo de utilização de função de loss para dados esparsos"
   ]
  },
  {
   "cell_type": "code",
   "execution_count": 44,
   "metadata": {},
   "outputs": [],
   "source": [
    "model.compile(optimizer='rmsprop',\n",
    "              loss='sparse_categorical_crossentropy',\n",
    "              metrics=['accuracy'])"
   ]
  },
  {
   "cell_type": "code",
   "execution_count": 45,
   "metadata": {},
   "outputs": [
    {
     "name": "stdout",
     "output_type": "stream",
     "text": [
      "Train on 7982 samples, validate on 1000 samples\n",
      "Epoch 1/20\n",
      "7982/7982 [==============================] - 1s 114us/sample - loss: 0.4698 - accuracy: 0.9039 - val_loss: 0.4212 - val_accuracy: 0.9170\n",
      "Epoch 2/20\n",
      "7982/7982 [==============================] - 0s 54us/sample - loss: 0.3112 - accuracy: 0.9271 - val_loss: 0.4164 - val_accuracy: 0.9120\n",
      "Epoch 3/20\n",
      "7982/7982 [==============================] - 0s 56us/sample - loss: 0.2432 - accuracy: 0.9381 - val_loss: 0.4358 - val_accuracy: 0.9040\n",
      "Epoch 4/20\n",
      "7982/7982 [==============================] - 0s 55us/sample - loss: 0.2046 - accuracy: 0.9459 - val_loss: 0.4531 - val_accuracy: 0.9000\n",
      "Epoch 5/20\n",
      "7982/7982 [==============================] - 0s 55us/sample - loss: 0.1734 - accuracy: 0.9501 - val_loss: 0.4611 - val_accuracy: 0.9020\n",
      "Epoch 6/20\n",
      "7982/7982 [==============================] - 0s 54us/sample - loss: 0.1542 - accuracy: 0.9526 - val_loss: 0.5497 - val_accuracy: 0.8800\n",
      "Epoch 7/20\n",
      "7982/7982 [==============================] - 0s 56us/sample - loss: 0.1422 - accuracy: 0.9534 - val_loss: 0.5198 - val_accuracy: 0.8980\n",
      "Epoch 8/20\n",
      "7982/7982 [==============================] - 0s 56us/sample - loss: 0.1312 - accuracy: 0.9564 - val_loss: 0.5157 - val_accuracy: 0.9010\n",
      "Epoch 9/20\n",
      "7982/7982 [==============================] - 0s 54us/sample - loss: 0.1199 - accuracy: 0.9567 - val_loss: 0.5415 - val_accuracy: 0.9000\n",
      "Epoch 10/20\n",
      "7982/7982 [==============================] - 0s 52us/sample - loss: 0.1183 - accuracy: 0.9565 - val_loss: 0.5693 - val_accuracy: 0.9010\n",
      "Epoch 11/20\n",
      "7982/7982 [==============================] - 0s 56us/sample - loss: 0.1096 - accuracy: 0.9555 - val_loss: 0.5642 - val_accuracy: 0.8970\n",
      "Epoch 12/20\n",
      "7982/7982 [==============================] - 0s 56us/sample - loss: 0.1074 - accuracy: 0.9578 - val_loss: 0.5953 - val_accuracy: 0.8950\n",
      "Epoch 13/20\n",
      "7982/7982 [==============================] - 0s 57us/sample - loss: 0.1037 - accuracy: 0.9570 - val_loss: 0.6001 - val_accuracy: 0.8940\n",
      "Epoch 14/20\n",
      "7982/7982 [==============================] - 1s 63us/sample - loss: 0.1066 - accuracy: 0.9585 - val_loss: 0.6175 - val_accuracy: 0.8910\n",
      "Epoch 15/20\n",
      "7982/7982 [==============================] - 0s 47us/sample - loss: 0.0984 - accuracy: 0.9583 - val_loss: 0.6416 - val_accuracy: 0.8900\n",
      "Epoch 16/20\n",
      "7982/7982 [==============================] - 1s 98us/sample - loss: 0.0997 - accuracy: 0.9573 - val_loss: 0.6295 - val_accuracy: 0.8940\n",
      "Epoch 17/20\n",
      "7982/7982 [==============================] - 1s 90us/sample - loss: 0.0973 - accuracy: 0.9580 - val_loss: 0.6571 - val_accuracy: 0.8900\n",
      "Epoch 18/20\n",
      "7982/7982 [==============================] - 1s 101us/sample - loss: 0.0959 - accuracy: 0.9573 - val_loss: 0.6474 - val_accuracy: 0.8860\n",
      "Epoch 19/20\n",
      "7982/7982 [==============================] - 1s 81us/sample - loss: 0.0937 - accuracy: 0.9592 - val_loss: 0.6787 - val_accuracy: 0.8840\n",
      "Epoch 20/20\n",
      "7982/7982 [==============================] - 1s 85us/sample - loss: 0.0914 - accuracy: 0.9585 - val_loss: 0.6745 - val_accuracy: 0.8890\n"
     ]
    }
   ],
   "source": [
    "history = model.fit(partial_x_train,\n",
    "                    partial_y_train,\n",
    "                    epochs=20,\n",
    "                    batch_size=512,\n",
    "                    validation_data=(x_val, y_val))"
   ]
  },
  {
   "cell_type": "code",
   "execution_count": 46,
   "metadata": {},
   "outputs": [
    {
     "data": {
      "image/png": "[encoded data removed]",
      "text/plain": [
       "<Figure size 432x288 with 1 Axes>"
      ]
     },
     "metadata": {
      "needs_background": "light"
     },
     "output_type": "display_data"
    }
   ],
   "source": [
    "import matplotlib.pyplot as plt\n",
    "loss = history.history['loss']\n",
    "val_loss = history.history['val_loss']\n",
    "epochs = range(1, len(loss) + 1)\n",
    "plt.plot(epochs, loss, 'bo', label='Training loss')\n",
    "plt.plot(epochs, val_loss, 'b', label='Validation loss')\n",
    "plt.title('Training and validation loss')\n",
    "plt.xlabel('Epochs')\n",
    "plt.ylabel('Loss')\n",
    "plt.legend()\n",
    "plt.show()"
   ]
  },
  {
   "cell_type": "code",
   "execution_count": 47,
   "metadata": {},
   "outputs": [
    {
     "data": {
      "image/png": "[encoded data removed]",
      "text/plain": [
       "<Figure size 432x288 with 1 Axes>"
      ]
     },
     "metadata": {
      "needs_background": "light"
     },
     "output_type": "display_data"
    }
   ],
   "source": [
    "#plt.clf()\n",
    "acc = history.history['accuracy']\n",
    "val_acc = history.history['val_accuracy']\n",
    "plt.plot(epochs, acc, 'bo', label='Training acc')\n",
    "plt.plot(epochs, val_acc, 'b', label='Validation acc')\n",
    "plt.title('Training and validation accuracy')\n",
    "plt.xlabel('Epochs')\n",
    "plt.ylabel('Loss')\n",
    "plt.legend()\n",
    "plt.show()"
   ]
  },
  {
   "cell_type": "code",
   "execution_count": null,
   "metadata": {},
   "outputs": [],
   "source": []
  },
  {
   "cell_type": "code",
   "execution_count": null,
   "metadata": {},
   "outputs": [],
   "source": []
  },
  {
   "cell_type": "markdown",
   "metadata": {},
   "source": [
    "## Rede Neural com poucos neuronios nas camadas escondidas\n",
    "* Apresenta dificuldade em representar as classes"
   ]
  },
  {
   "cell_type": "code",
   "execution_count": 51,
   "metadata": {},
   "outputs": [
    {
     "name": "stdout",
     "output_type": "stream",
     "text": [
      "Train on 5748 samples, validate on 1437 samples\n",
      "Epoch 1/20\n",
      "5748/5748 [==============================] - 1s 149us/sample - loss: 3.0386 - accuracy: 0.2338 - val_loss: 2.3346 - val_accuracy: 0.5205\n",
      "Epoch 2/20\n",
      "5748/5748 [==============================] - 0s 74us/sample - loss: 1.8160 - accuracy: 0.5924 - val_loss: 1.6345 - val_accuracy: 0.6026\n",
      "Epoch 3/20\n",
      "5748/5748 [==============================] - 0s 79us/sample - loss: 1.3335 - accuracy: 0.6594 - val_loss: 1.4596 - val_accuracy: 0.6381\n",
      "Epoch 4/20\n",
      "5748/5748 [==============================] - 0s 77us/sample - loss: 1.1355 - accuracy: 0.7152 - val_loss: 1.3924 - val_accuracy: 0.6639\n",
      "Epoch 5/20\n",
      "5748/5748 [==============================] - 0s 77us/sample - loss: 1.0057 - accuracy: 0.7512 - val_loss: 1.3673 - val_accuracy: 0.6736\n",
      "Epoch 6/20\n",
      "5748/5748 [==============================] - 0s 79us/sample - loss: 0.9064 - accuracy: 0.7655 - val_loss: 1.3588 - val_accuracy: 0.6841\n",
      "Epoch 7/20\n",
      "5748/5748 [==============================] - 0s 76us/sample - loss: 0.8277 - accuracy: 0.7810 - val_loss: 1.3542 - val_accuracy: 0.6889\n",
      "Epoch 8/20\n",
      "5748/5748 [==============================] - 0s 79us/sample - loss: 0.7574 - accuracy: 0.7930 - val_loss: 1.4399 - val_accuracy: 0.6750\n",
      "Epoch 9/20\n",
      "5748/5748 [==============================] - 0s 77us/sample - loss: 0.6992 - accuracy: 0.8071 - val_loss: 1.4400 - val_accuracy: 0.6834\n",
      "Epoch 10/20\n",
      "5748/5748 [==============================] - 0s 77us/sample - loss: 0.6460 - accuracy: 0.8243 - val_loss: 1.4699 - val_accuracy: 0.6889\n",
      "Epoch 11/20\n",
      "5748/5748 [==============================] - 0s 85us/sample - loss: 0.6005 - accuracy: 0.8337 - val_loss: 1.4861 - val_accuracy: 0.6882\n",
      "Epoch 12/20\n",
      "5748/5748 [==============================] - 1s 111us/sample - loss: 0.5601 - accuracy: 0.8427 - val_loss: 1.5497 - val_accuracy: 0.6868\n",
      "Epoch 13/20\n",
      "5748/5748 [==============================] - 1s 138us/sample - loss: 0.5232 - accuracy: 0.8530 - val_loss: 1.6180 - val_accuracy: 0.6875\n",
      "Epoch 14/20\n",
      "5748/5748 [==============================] - 1s 134us/sample - loss: 0.4924 - accuracy: 0.8636 - val_loss: 1.6444 - val_accuracy: 0.6917\n",
      "Epoch 15/20\n",
      "5748/5748 [==============================] - 1s 89us/sample - loss: 0.4647 - accuracy: 0.8676 - val_loss: 1.7092 - val_accuracy: 0.6875\n",
      "Epoch 16/20\n",
      "5748/5748 [==============================] - 1s 98us/sample - loss: 0.4382 - accuracy: 0.8737 - val_loss: 1.7435 - val_accuracy: 0.6917\n",
      "Epoch 17/20\n",
      "5748/5748 [==============================] - 1s 89us/sample - loss: 0.4123 - accuracy: 0.8801 - val_loss: 1.8424 - val_accuracy: 0.6848\n",
      "Epoch 18/20\n",
      "5748/5748 [==============================] - 0s 79us/sample - loss: 0.3915 - accuracy: 0.8897 - val_loss: 1.9444 - val_accuracy: 0.6896\n",
      "Epoch 19/20\n",
      "5748/5748 [==============================] - 0s 69us/sample - loss: 0.3735 - accuracy: 0.8934 - val_loss: 1.9567 - val_accuracy: 0.6889\n",
      "Epoch 20/20\n",
      "5748/5748 [==============================] - 0s 84us/sample - loss: 0.3554 - accuracy: 0.8974 - val_loss: 2.0219 - val_accuracy: 0.6868\n"
     ]
    },
    {
     "data": {
      "text/plain": [
       "<tensorflow.python.keras.callbacks.History at 0x7f087f15e0d0>"
      ]
     },
     "execution_count": 51,
     "metadata": {},
     "output_type": "execute_result"
    }
   ],
   "source": [
    "model = Sequential()\n",
    "model.add(Dense(64, activation='relu', input_shape=(10000,)))\n",
    "model.add(Dense(4, activation='relu'))\n",
    "model.add(Dense(46, activation='softmax'))\n",
    "model.compile(optimizer='rmsprop',\n",
    "              loss='categorical_crossentropy',\n",
    "              metrics=['accuracy'])\n",
    "model.fit(partial_x_train,\n",
    "          partial_y_train,\n",
    "          epochs=20,\n",
    "          batch_size=128,\n",
    "          validation_data=(x_val, y_val))"
   ]
  },
  {
   "cell_type": "code",
   "execution_count": 52,
   "metadata": {},
   "outputs": [
    {
     "data": {
      "image/png": "[encoded data removed]",
      "text/plain": [
       "<Figure size 432x288 with 1 Axes>"
      ]
     },
     "metadata": {
      "needs_background": "light"
     },
     "output_type": "display_data"
    }
   ],
   "source": [
    "loss = history.history['loss']\n",
    "val_loss = history.history['val_loss']\n",
    "epochs = range(1, len(loss) + 1)\n",
    "plt.plot(epochs, loss, 'bo', label='Training loss')\n",
    "plt.plot(epochs, val_loss, 'b', label='Validation loss')\n",
    "plt.title('Training and validation loss')\n",
    "plt.xlabel('Epochs')\n",
    "plt.ylabel('Loss')\n",
    "plt.legend()\n",
    "plt.show()"
   ]
  },
  {
   "cell_type": "code",
   "execution_count": 53,
   "metadata": {},
   "outputs": [
    {
     "data": {
      "image/png": "[encoded data removed]",
      "text/plain": [
       "<Figure size 432x288 with 1 Axes>"
      ]
     },
     "metadata": {
      "needs_background": "light"
     },
     "output_type": "display_data"
    }
   ],
   "source": [
    "acc = history.history['accuracy']\n",
    "val_acc = history.history['val_accuracy']\n",
    "plt.plot(epochs, acc, 'bo', label='Training acc')\n",
    "plt.plot(epochs, val_acc, 'b', label='Validation acc')\n",
    "plt.title('Training and validation accuracy')\n",
    "plt.xlabel('Epochs')\n",
    "plt.ylabel('Loss')\n",
    "plt.legend()\n",
    "plt.show()"
   ]
  },
  {
   "cell_type": "markdown",
   "metadata": {},
   "source": [
    "## Exemplo com regressão"
   ]
  },
  {
   "cell_type": "code",
   "execution_count": 54,
   "metadata": {},
   "outputs": [],
   "source": [
    "from keras.datasets import boston_housing\n",
    "(train_data, train_targets), (test_data, test_targets) = boston_housing.load_data()"
   ]
  },
  {
   "cell_type": "code",
   "execution_count": 66,
   "metadata": {},
   "outputs": [
    {
     "name": "stdout",
     "output_type": "stream",
     "text": [
      "(404, 13)\n",
      "(102, 13)\n"
     ]
    }
   ],
   "source": [
    "print(train_data.shape)\n",
    "print(test_data.shape)"
   ]
  },
  {
   "cell_type": "markdown",
   "metadata": {},
   "source": [
    "# Normalização"
   ]
  },
  {
   "cell_type": "code",
   "execution_count": 55,
   "metadata": {},
   "outputs": [],
   "source": [
    "mean = train_data.mean(axis=0)\n",
    "train_data -= mean\n",
    "std = train_data.std(axis=0)\n",
    "train_data /= std\n",
    "test_data -= mean\n",
    "test_data /= std"
   ]
  },
  {
   "cell_type": "markdown",
   "metadata": {},
   "source": [
    "## Diferentes métricas de loss e métrica MSE x MAE"
   ]
  },
  {
   "cell_type": "code",
   "execution_count": 56,
   "metadata": {},
   "outputs": [],
   "source": [
    "from keras import models\n",
    "from keras import layers\n",
    "\n",
    "def build_model():\n",
    "    model = models.Sequential()\n",
    "    model.add(layers.Dense(64, activation='relu',\n",
    "                            input_shape=(train_data.shape[1],)))\n",
    "    model.add(layers.Dense(64, activation='relu'))\n",
    "    model.add(layers.Dense(1))\n",
    "    model.compile(optimizer='rmsprop', loss='mse', metrics=['mae'])\n",
    "    return model"
   ]
  },
  {
   "cell_type": "markdown",
   "metadata": {},
   "source": [
    "## Validando rede neural com k-fold"
   ]
  },
  {
   "cell_type": "code",
   "execution_count": 69,
   "metadata": {},
   "outputs": [],
   "source": [
    "k=4\n",
    "num_val_samples = len(train_data) // k \n",
    "num_epochs = 20\n",
    "all_scores = []"
   ]
  },
  {
   "cell_type": "code",
   "execution_count": 64,
   "metadata": {},
   "outputs": [
    {
     "name": "stdout",
     "output_type": "stream",
     "text": [
      "202\n"
     ]
    }
   ],
   "source": [
    "print(num_val_samples)"
   ]
  },
  {
   "cell_type": "code",
   "execution_count": null,
   "metadata": {},
   "outputs": [],
   "source": []
  },
  {
   "cell_type": "code",
   "execution_count": 70,
   "metadata": {},
   "outputs": [
    {
     "name": "stdout",
     "output_type": "stream",
     "text": [
      "processing fold # 0\n",
      "processing fold # 1\n",
      "processing fold # 2\n",
      "processing fold # 3\n"
     ]
    }
   ],
   "source": [
    "all_mae_histories = []\n",
    "\n",
    "for i in range(k):\n",
    "    print('processing fold #', i)\n",
    "    val_data = train_data[i * num_val_samples: (i + 1) * num_val_samples] \n",
    "    val_targets = train_targets[i * num_val_samples: (i + 1) * num_val_samples]\n",
    " \n",
    "    partial_train_data = np.concatenate( \n",
    "        [train_data[:i * num_val_samples],\n",
    "        train_data[(i + 1) * num_val_samples:]], \n",
    "        axis=0)\n",
    "\n",
    "    partial_train_targets = np.concatenate( \n",
    "        [train_targets[:i * num_val_samples],\n",
    "        train_targets[(i + 1) * num_val_samples:]], \n",
    "        axis=0)\n",
    "    \n",
    "    model = build_model()\n",
    "    model.fit(partial_train_data, partial_train_targets,\n",
    "        epochs=num_epochs, batch_size=1, verbose=0)\n",
    "    \n",
    "    val_mse, val_mae = model.evaluate(val_data, val_targets, verbose=0)\n",
    "    all_scores.append(val_mae)\n",
    "    \n",
    "    mae_history = history.history['loss']\n",
    "    all_mae_histories.append(mae_history)"
   ]
  },
  {
   "cell_type": "code",
   "execution_count": 71,
   "metadata": {},
   "outputs": [
    {
     "name": "stdout",
     "output_type": "stream",
     "text": [
      "[1.9228776693344116, 2.6556992530822754, 2.42950177192688, 2.6317241191864014]\n",
      "2.409950703382492\n"
     ]
    }
   ],
   "source": [
    "print(all_scores)\n",
    "print(np.mean(all_scores))"
   ]
  },
  {
   "cell_type": "code",
   "execution_count": 72,
   "metadata": {},
   "outputs": [],
   "source": [
    "average_mae_history = [\n",
    "    np.mean([x[i] for x in all_mae_histories]) for i in range(num_epochs)]"
   ]
  },
  {
   "cell_type": "code",
   "execution_count": 73,
   "metadata": {},
   "outputs": [
    {
     "data": {
      "image/png": "[encoded data removed]",
      "text/plain": [
       "<Figure size 432x288 with 1 Axes>"
      ]
     },
     "metadata": {
      "needs_background": "light"
     },
     "output_type": "display_data"
    }
   ],
   "source": [
    "import matplotlib.pyplot as plt\n",
    "plt.plot(range(1, len(average_mae_history) + 1), average_mae_history)\n",
    "plt.xlabel('Epochs')\n",
    "plt.ylabel('Validation MAE')\n",
    "plt.show()"
   ]
  },
  {
   "cell_type": "markdown",
   "metadata": {},
   "source": [
    "# Comparando MSE x MAE"
   ]
  },
  {
   "cell_type": "code",
   "execution_count": 74,
   "metadata": {},
   "outputs": [
    {
     "name": "stdout",
     "output_type": "stream",
     "text": [
      "102/102 [==============================] - 0s 226us/step\n"
     ]
    }
   ],
   "source": [
    "model = build_model()\n",
    "model.fit(train_data, train_targets,\n",
    "  epochs=80, batch_size=16, verbose=0)\n",
    "test_mse_score, test_mae_score = model.evaluate(test_data, test_targets)"
   ]
  },
  {
   "cell_type": "code",
   "execution_count": 75,
   "metadata": {},
   "outputs": [
    {
     "name": "stdout",
     "output_type": "stream",
     "text": [
      "2.779961109161377\n",
      "18.129408593271293\n"
     ]
    }
   ],
   "source": [
    "print(test_mae_score)\n",
    "\n",
    "print(test_mse_score)"
   ]
  },
  {
   "cell_type": "code",
   "execution_count": null,
   "metadata": {},
   "outputs": [],
   "source": []
  },
  {
   "cell_type": "markdown",
   "metadata": {},
   "source": [
    "## Estratégia de refinamento do modelo\n",
    "* Definindo conjunto de treino, validação e teste\n",
    "    * Treino do modelo é feito na base de treino e avaliado na base de validação\n",
    "    * Otimizações são aplicadas ao modelo\n",
    "    * Treino do modelo na base de treino e validação concatenadas \n",
    "    * Avaliação do modelo na base de teste\n",
    "\n",
    "* k-fold (Adequado para bases pequenas)\n",
    "    * validação utilizando diferentes pequenos conjuntos da base completa"
   ]
  },
  {
   "cell_type": "code",
   "execution_count": null,
   "metadata": {},
   "outputs": [],
   "source": []
  },
  {
   "cell_type": "markdown",
   "metadata": {},
   "source": [
    "## Reuters \n",
    "    \n",
    "* Comparando MLP com dois tipos de ativação \n",
    "    * Relu : Rectified Linear Unit.\n",
    "    * Selu : Scaled Exponential Linear Unit\n",
    "\n",
    "* Estratégia de geração de rede neurais com número variado de camadas\n",
    "\n",
    "'''\n",
    "Klambauer, G., Unterthiner, T., Mayr, A., & Hochreiter, S. (2017).\n",
    "  Self-Normalizing Neural Networks. arXiv preprint arXiv:1706.02515.\n",
    "  https://arxiv.org/abs/1706.02515\n",
    "'''"
   ]
  },
  {
   "cell_type": "code",
   "execution_count": null,
   "metadata": {},
   "outputs": [],
   "source": []
  },
  {
   "cell_type": "code",
   "execution_count": null,
   "metadata": {},
   "outputs": [],
   "source": []
  },
  {
   "cell_type": "code",
   "execution_count": 97,
   "metadata": {},
   "outputs": [
    {
     "name": "stdout",
     "output_type": "stream",
     "text": [
      "Loading data...\n",
      "[ 0  1  2  3  4  5  6  7  8  9 10 11 12 13 14 15 16 17 18 19 20 21 22 23\n",
      " 24 25 26 27 28 29 30 31 32 33 34 35 36 37 38 39 40 41 42 43 44 45]\n",
      "8982 train sequences\n",
      "2246 test sequences\n",
      "46 classes\n",
      "Vectorizing sequence data...\n",
      "x_train shape: (8982, 1000)\n",
      "x_test shape: (2246, 1000)\n",
      "Convert class vector to binary class matrix (for use with categorical_crossentropy)\n",
      "y_train shape: (8982, 46)\n",
      "y_test shape: (2246, 46)\n",
      "\n",
      "Building network 1...\n",
      "Train on 8083 samples, validate on 899 samples\n",
      "Epoch 1/40\n",
      "8083/8083 [==============================] - 4s 472us/step - loss: 3.1912 - accuracy: 0.3312 - val_loss: 2.6217 - val_accuracy: 0.3315\n",
      "Epoch 2/40\n",
      "8083/8083 [==============================] - 4s 439us/step - loss: 2.5993 - accuracy: 0.3478 - val_loss: 2.4195 - val_accuracy: 0.3315\n",
      "Epoch 3/40\n",
      "8083/8083 [==============================] - 3s 417us/step - loss: 2.4260 - accuracy: 0.3506 - val_loss: 2.2660 - val_accuracy: 0.3315\n",
      "Epoch 4/40\n",
      "8083/8083 [==============================] - 3s 419us/step - loss: 2.3219 - accuracy: 0.3815 - val_loss: 2.1834 - val_accuracy: 0.4883\n",
      "Epoch 5/40\n",
      "8083/8083 [==============================] - 3s 429us/step - loss: 2.2687 - accuracy: 0.4412 - val_loss: 2.1628 - val_accuracy: 0.4883\n",
      "Epoch 6/40\n",
      "8083/8083 [==============================] - 3s 427us/step - loss: 2.2463 - accuracy: 0.4616 - val_loss: 2.1651 - val_accuracy: 0.4828\n",
      "Epoch 7/40\n",
      "8083/8083 [==============================] - 3s 426us/step - loss: 2.2307 - accuracy: 0.4644 - val_loss: 2.1252 - val_accuracy: 0.5028\n",
      "Epoch 8/40\n",
      "8083/8083 [==============================] - 3s 428us/step - loss: 2.1970 - accuracy: 0.4710 - val_loss: 2.1350 - val_accuracy: 0.4894\n",
      "Epoch 9/40\n",
      "8083/8083 [==============================] - 3s 429us/step - loss: 2.1916 - accuracy: 0.4748 - val_loss: 2.1158 - val_accuracy: 0.5017\n",
      "Epoch 10/40\n",
      "8083/8083 [==============================] - 3s 429us/step - loss: 2.1657 - accuracy: 0.4771 - val_loss: 2.0960 - val_accuracy: 0.5061\n",
      "Epoch 11/40\n",
      "8083/8083 [==============================] - 3s 423us/step - loss: 2.1550 - accuracy: 0.4841 - val_loss: 2.0820 - val_accuracy: 0.5128\n",
      "Epoch 12/40\n",
      "8083/8083 [==============================] - 3s 421us/step - loss: 2.1532 - accuracy: 0.4895 - val_loss: 2.1835 - val_accuracy: 0.4883\n",
      "Epoch 13/40\n",
      "8083/8083 [==============================] - 3s 430us/step - loss: 2.1490 - accuracy: 0.4878 - val_loss: 2.0807 - val_accuracy: 0.5150\n",
      "Epoch 14/40\n",
      "8083/8083 [==============================] - 3s 419us/step - loss: 2.1348 - accuracy: 0.4957 - val_loss: 2.1125 - val_accuracy: 0.5028\n",
      "Epoch 15/40\n",
      "8083/8083 [==============================] - 3s 415us/step - loss: 2.1345 - accuracy: 0.4945 - val_loss: 2.1113 - val_accuracy: 0.5128\n",
      "Epoch 16/40\n",
      "8083/8083 [==============================] - 3s 420us/step - loss: 2.0991 - accuracy: 0.5023 - val_loss: 2.0679 - val_accuracy: 0.5128\n",
      "Epoch 17/40\n",
      "8083/8083 [==============================] - 3s 418us/step - loss: 2.1004 - accuracy: 0.5033 - val_loss: 2.0638 - val_accuracy: 0.5172\n",
      "Epoch 18/40\n",
      "8083/8083 [==============================] - 3s 414us/step - loss: 2.1061 - accuracy: 0.5039 - val_loss: 2.0987 - val_accuracy: 0.5117\n",
      "Epoch 19/40\n",
      "8083/8083 [==============================] - 3s 418us/step - loss: 2.1040 - accuracy: 0.5017 - val_loss: 2.0818 - val_accuracy: 0.5150\n",
      "Epoch 20/40\n",
      "8083/8083 [==============================] - 3s 418us/step - loss: 2.0911 - accuracy: 0.5045 - val_loss: 2.0889 - val_accuracy: 0.5150\n",
      "Epoch 21/40\n",
      "8083/8083 [==============================] - 3s 412us/step - loss: 2.0804 - accuracy: 0.5100 - val_loss: 2.0607 - val_accuracy: 0.5195\n",
      "Epoch 22/40\n",
      "8083/8083 [==============================] - 3s 409us/step - loss: 2.0915 - accuracy: 0.5070 - val_loss: 2.0548 - val_accuracy: 0.5206\n",
      "Epoch 23/40\n",
      "8083/8083 [==============================] - 3s 412us/step - loss: 2.0654 - accuracy: 0.5143 - val_loss: 2.0750 - val_accuracy: 0.5195\n",
      "Epoch 24/40\n",
      "8083/8083 [==============================] - 3s 417us/step - loss: 2.0705 - accuracy: 0.5072 - val_loss: 2.0484 - val_accuracy: 0.5206\n",
      "Epoch 25/40\n",
      "8083/8083 [==============================] - 3s 415us/step - loss: 2.0623 - accuracy: 0.5180 - val_loss: 2.0516 - val_accuracy: 0.5150\n",
      "Epoch 26/40\n",
      "8083/8083 [==============================] - 3s 417us/step - loss: 2.0652 - accuracy: 0.5131 - val_loss: 2.0983 - val_accuracy: 0.5072\n",
      "Epoch 27/40\n",
      "8083/8083 [==============================] - 3s 392us/step - loss: 2.0496 - accuracy: 0.5124 - val_loss: 2.0375 - val_accuracy: 0.5184\n",
      "Epoch 28/40\n",
      "8083/8083 [==============================] - 3s 398us/step - loss: 2.0437 - accuracy: 0.5132 - val_loss: 2.0249 - val_accuracy: 0.5217\n",
      "Epoch 29/40\n",
      "8083/8083 [==============================] - 3s 388us/step - loss: 2.0418 - accuracy: 0.5173 - val_loss: 2.0246 - val_accuracy: 0.5250\n",
      "Epoch 30/40\n",
      "8083/8083 [==============================] - 3s 390us/step - loss: 2.0409 - accuracy: 0.5180 - val_loss: 2.0482 - val_accuracy: 0.5139\n",
      "Epoch 31/40\n",
      "8083/8083 [==============================] - 3s 407us/step - loss: 2.0564 - accuracy: 0.5096 - val_loss: 2.0372 - val_accuracy: 0.5195\n",
      "Epoch 32/40\n",
      "8083/8083 [==============================] - 3s 420us/step - loss: 2.0391 - accuracy: 0.5197 - val_loss: 2.0483 - val_accuracy: 0.5150\n",
      "Epoch 33/40\n",
      "7120/8083 [=========================>....] - ETA: 0s - loss: 2.0217 - accuracy: 0.5201"
     ]
    },
    {
     "ename": "KeyboardInterrupt",
     "evalue": "",
     "output_type": "error",
     "traceback": [
      "\u001b[0;31m---------------------------------------------------------------------------\u001b[0m",
      "\u001b[0;31mKeyboardInterrupt\u001b[0m                         Traceback (most recent call last)",
      "\u001b[0;32m<ipython-input-97-465c22e61b19>\u001b[0m in \u001b[0;36m<module>\u001b[0;34m\u001b[0m\n\u001b[1;32m    123\u001b[0m                             \u001b[0mepochs\u001b[0m\u001b[0;34m=\u001b[0m\u001b[0mepochs\u001b[0m\u001b[0;34m,\u001b[0m\u001b[0;34m\u001b[0m\u001b[0;34m\u001b[0m\u001b[0m\n\u001b[1;32m    124\u001b[0m                             \u001b[0mverbose\u001b[0m\u001b[0;34m=\u001b[0m\u001b[0;36m1\u001b[0m\u001b[0;34m,\u001b[0m\u001b[0;34m\u001b[0m\u001b[0;34m\u001b[0m\u001b[0m\n\u001b[0;32m--> 125\u001b[0;31m                             validation_split=0.1)\n\u001b[0m\u001b[1;32m    126\u001b[0m \u001b[0;34m\u001b[0m\u001b[0m\n\u001b[1;32m    127\u001b[0m score_model1 = model1.evaluate(x_test,\n",
      "\u001b[0;32m~/.conda/envs/DL/lib/python3.7/site-packages/keras/engine/training.py\u001b[0m in \u001b[0;36mfit\u001b[0;34m(self, x, y, batch_size, epochs, verbose, callbacks, validation_split, validation_data, shuffle, class_weight, sample_weight, initial_epoch, steps_per_epoch, validation_steps, validation_freq, max_queue_size, workers, use_multiprocessing, **kwargs)\u001b[0m\n\u001b[1;32m   1237\u001b[0m                                         \u001b[0msteps_per_epoch\u001b[0m\u001b[0;34m=\u001b[0m\u001b[0msteps_per_epoch\u001b[0m\u001b[0;34m,\u001b[0m\u001b[0;34m\u001b[0m\u001b[0;34m\u001b[0m\u001b[0m\n\u001b[1;32m   1238\u001b[0m                                         \u001b[0mvalidation_steps\u001b[0m\u001b[0;34m=\u001b[0m\u001b[0mvalidation_steps\u001b[0m\u001b[0;34m,\u001b[0m\u001b[0;34m\u001b[0m\u001b[0;34m\u001b[0m\u001b[0m\n\u001b[0;32m-> 1239\u001b[0;31m                                         validation_freq=validation_freq)\n\u001b[0m\u001b[1;32m   1240\u001b[0m \u001b[0;34m\u001b[0m\u001b[0m\n\u001b[1;32m   1241\u001b[0m     def evaluate(self,\n",
      "\u001b[0;32m~/.conda/envs/DL/lib/python3.7/site-packages/keras/engine/training_arrays.py\u001b[0m in \u001b[0;36mfit_loop\u001b[0;34m(model, fit_function, fit_inputs, out_labels, batch_size, epochs, verbose, callbacks, val_function, val_inputs, shuffle, initial_epoch, steps_per_epoch, validation_steps, validation_freq)\u001b[0m\n\u001b[1;32m    194\u001b[0m                     \u001b[0mins_batch\u001b[0m\u001b[0;34m[\u001b[0m\u001b[0mi\u001b[0m\u001b[0;34m]\u001b[0m \u001b[0;34m=\u001b[0m \u001b[0mins_batch\u001b[0m\u001b[0;34m[\u001b[0m\u001b[0mi\u001b[0m\u001b[0;34m]\u001b[0m\u001b[0;34m.\u001b[0m\u001b[0mtoarray\u001b[0m\u001b[0;34m(\u001b[0m\u001b[0;34m)\u001b[0m\u001b[0;34m\u001b[0m\u001b[0;34m\u001b[0m\u001b[0m\n\u001b[1;32m    195\u001b[0m \u001b[0;34m\u001b[0m\u001b[0m\n\u001b[0;32m--> 196\u001b[0;31m                 \u001b[0mouts\u001b[0m \u001b[0;34m=\u001b[0m \u001b[0mfit_function\u001b[0m\u001b[0;34m(\u001b[0m\u001b[0mins_batch\u001b[0m\u001b[0;34m)\u001b[0m\u001b[0;34m\u001b[0m\u001b[0;34m\u001b[0m\u001b[0m\n\u001b[0m\u001b[1;32m    197\u001b[0m                 \u001b[0mouts\u001b[0m \u001b[0;34m=\u001b[0m \u001b[0mto_list\u001b[0m\u001b[0;34m(\u001b[0m\u001b[0mouts\u001b[0m\u001b[0;34m)\u001b[0m\u001b[0;34m\u001b[0m\u001b[0;34m\u001b[0m\u001b[0m\n\u001b[1;32m    198\u001b[0m                 \u001b[0;32mfor\u001b[0m \u001b[0ml\u001b[0m\u001b[0;34m,\u001b[0m \u001b[0mo\u001b[0m \u001b[0;32min\u001b[0m \u001b[0mzip\u001b[0m\u001b[0;34m(\u001b[0m\u001b[0mout_labels\u001b[0m\u001b[0;34m,\u001b[0m \u001b[0mouts\u001b[0m\u001b[0;34m)\u001b[0m\u001b[0;34m:\u001b[0m\u001b[0;34m\u001b[0m\u001b[0;34m\u001b[0m\u001b[0m\n",
      "\u001b[0;32m~/.conda/envs/DL/lib/python3.7/site-packages/tensorflow_core/python/keras/backend.py\u001b[0m in \u001b[0;36m__call__\u001b[0;34m(self, inputs)\u001b[0m\n\u001b[1;32m   3725\u001b[0m         \u001b[0mvalue\u001b[0m \u001b[0;34m=\u001b[0m \u001b[0mmath_ops\u001b[0m\u001b[0;34m.\u001b[0m\u001b[0mcast\u001b[0m\u001b[0;34m(\u001b[0m\u001b[0mvalue\u001b[0m\u001b[0;34m,\u001b[0m \u001b[0mtensor\u001b[0m\u001b[0;34m.\u001b[0m\u001b[0mdtype\u001b[0m\u001b[0;34m)\u001b[0m\u001b[0;34m\u001b[0m\u001b[0;34m\u001b[0m\u001b[0m\n\u001b[1;32m   3726\u001b[0m       \u001b[0mconverted_inputs\u001b[0m\u001b[0;34m.\u001b[0m\u001b[0mappend\u001b[0m\u001b[0;34m(\u001b[0m\u001b[0mvalue\u001b[0m\u001b[0;34m)\u001b[0m\u001b[0;34m\u001b[0m\u001b[0;34m\u001b[0m\u001b[0m\n\u001b[0;32m-> 3727\u001b[0;31m     \u001b[0moutputs\u001b[0m \u001b[0;34m=\u001b[0m \u001b[0mself\u001b[0m\u001b[0;34m.\u001b[0m\u001b[0m_graph_fn\u001b[0m\u001b[0;34m(\u001b[0m\u001b[0;34m*\u001b[0m\u001b[0mconverted_inputs\u001b[0m\u001b[0;34m)\u001b[0m\u001b[0;34m\u001b[0m\u001b[0;34m\u001b[0m\u001b[0m\n\u001b[0m\u001b[1;32m   3728\u001b[0m \u001b[0;34m\u001b[0m\u001b[0m\n\u001b[1;32m   3729\u001b[0m     \u001b[0;31m# EagerTensor.numpy() will often make a copy to ensure memory safety.\u001b[0m\u001b[0;34m\u001b[0m\u001b[0;34m\u001b[0m\u001b[0;34m\u001b[0m\u001b[0m\n",
      "\u001b[0;32m~/.conda/envs/DL/lib/python3.7/site-packages/tensorflow_core/python/eager/function.py\u001b[0m in \u001b[0;36m__call__\u001b[0;34m(self, *args, **kwargs)\u001b[0m\n\u001b[1;32m   1549\u001b[0m       \u001b[0mTypeError\u001b[0m\u001b[0;34m:\u001b[0m \u001b[0mFor\u001b[0m \u001b[0minvalid\u001b[0m \u001b[0mpositional\u001b[0m\u001b[0;34m/\u001b[0m\u001b[0mkeyword\u001b[0m \u001b[0margument\u001b[0m \u001b[0mcombinations\u001b[0m\u001b[0;34m.\u001b[0m\u001b[0;34m\u001b[0m\u001b[0;34m\u001b[0m\u001b[0m\n\u001b[1;32m   1550\u001b[0m     \"\"\"\n\u001b[0;32m-> 1551\u001b[0;31m     \u001b[0;32mreturn\u001b[0m \u001b[0mself\u001b[0m\u001b[0;34m.\u001b[0m\u001b[0m_call_impl\u001b[0m\u001b[0;34m(\u001b[0m\u001b[0margs\u001b[0m\u001b[0;34m,\u001b[0m \u001b[0mkwargs\u001b[0m\u001b[0;34m)\u001b[0m\u001b[0;34m\u001b[0m\u001b[0;34m\u001b[0m\u001b[0m\n\u001b[0m\u001b[1;32m   1552\u001b[0m \u001b[0;34m\u001b[0m\u001b[0m\n\u001b[1;32m   1553\u001b[0m   \u001b[0;32mdef\u001b[0m \u001b[0m_call_impl\u001b[0m\u001b[0;34m(\u001b[0m\u001b[0mself\u001b[0m\u001b[0;34m,\u001b[0m \u001b[0margs\u001b[0m\u001b[0;34m,\u001b[0m \u001b[0mkwargs\u001b[0m\u001b[0;34m,\u001b[0m \u001b[0mcancellation_manager\u001b[0m\u001b[0;34m=\u001b[0m\u001b[0;32mNone\u001b[0m\u001b[0;34m)\u001b[0m\u001b[0;34m:\u001b[0m\u001b[0;34m\u001b[0m\u001b[0;34m\u001b[0m\u001b[0m\n",
      "\u001b[0;32m~/.conda/envs/DL/lib/python3.7/site-packages/tensorflow_core/python/eager/function.py\u001b[0m in \u001b[0;36m_call_impl\u001b[0;34m(self, args, kwargs, cancellation_manager)\u001b[0m\n\u001b[1;32m   1589\u001b[0m       raise TypeError(\"Keyword arguments {} unknown. Expected {}.\".format(\n\u001b[1;32m   1590\u001b[0m           list(kwargs.keys()), list(self._arg_keywords)))\n\u001b[0;32m-> 1591\u001b[0;31m     \u001b[0;32mreturn\u001b[0m \u001b[0mself\u001b[0m\u001b[0;34m.\u001b[0m\u001b[0m_call_flat\u001b[0m\u001b[0;34m(\u001b[0m\u001b[0margs\u001b[0m\u001b[0;34m,\u001b[0m \u001b[0mself\u001b[0m\u001b[0;34m.\u001b[0m\u001b[0mcaptured_inputs\u001b[0m\u001b[0;34m,\u001b[0m \u001b[0mcancellation_manager\u001b[0m\u001b[0;34m)\u001b[0m\u001b[0;34m\u001b[0m\u001b[0;34m\u001b[0m\u001b[0m\n\u001b[0m\u001b[1;32m   1592\u001b[0m \u001b[0;34m\u001b[0m\u001b[0m\n\u001b[1;32m   1593\u001b[0m   \u001b[0;32mdef\u001b[0m \u001b[0m_filtered_call\u001b[0m\u001b[0;34m(\u001b[0m\u001b[0mself\u001b[0m\u001b[0;34m,\u001b[0m \u001b[0margs\u001b[0m\u001b[0;34m,\u001b[0m \u001b[0mkwargs\u001b[0m\u001b[0;34m)\u001b[0m\u001b[0;34m:\u001b[0m\u001b[0;34m\u001b[0m\u001b[0;34m\u001b[0m\u001b[0m\n",
      "\u001b[0;32m~/.conda/envs/DL/lib/python3.7/site-packages/tensorflow_core/python/eager/function.py\u001b[0m in \u001b[0;36m_call_flat\u001b[0;34m(self, args, captured_inputs, cancellation_manager)\u001b[0m\n\u001b[1;32m   1690\u001b[0m       \u001b[0;31m# No tape is watching; skip to running the function.\u001b[0m\u001b[0;34m\u001b[0m\u001b[0;34m\u001b[0m\u001b[0;34m\u001b[0m\u001b[0m\n\u001b[1;32m   1691\u001b[0m       return self._build_call_outputs(self._inference_function.call(\n\u001b[0;32m-> 1692\u001b[0;31m           ctx, args, cancellation_manager=cancellation_manager))\n\u001b[0m\u001b[1;32m   1693\u001b[0m     forward_backward = self._select_forward_and_backward_functions(\n\u001b[1;32m   1694\u001b[0m         \u001b[0margs\u001b[0m\u001b[0;34m,\u001b[0m\u001b[0;34m\u001b[0m\u001b[0;34m\u001b[0m\u001b[0m\n",
      "\u001b[0;32m~/.conda/envs/DL/lib/python3.7/site-packages/tensorflow_core/python/eager/function.py\u001b[0m in \u001b[0;36mcall\u001b[0;34m(self, ctx, args, cancellation_manager)\u001b[0m\n\u001b[1;32m    543\u001b[0m               \u001b[0minputs\u001b[0m\u001b[0;34m=\u001b[0m\u001b[0margs\u001b[0m\u001b[0;34m,\u001b[0m\u001b[0;34m\u001b[0m\u001b[0;34m\u001b[0m\u001b[0m\n\u001b[1;32m    544\u001b[0m               \u001b[0mattrs\u001b[0m\u001b[0;34m=\u001b[0m\u001b[0;34m(\u001b[0m\u001b[0;34m\"executor_type\"\u001b[0m\u001b[0;34m,\u001b[0m \u001b[0mexecutor_type\u001b[0m\u001b[0;34m,\u001b[0m \u001b[0;34m\"config_proto\"\u001b[0m\u001b[0;34m,\u001b[0m \u001b[0mconfig\u001b[0m\u001b[0;34m)\u001b[0m\u001b[0;34m,\u001b[0m\u001b[0;34m\u001b[0m\u001b[0;34m\u001b[0m\u001b[0m\n\u001b[0;32m--> 545\u001b[0;31m               ctx=ctx)\n\u001b[0m\u001b[1;32m    546\u001b[0m         \u001b[0;32melse\u001b[0m\u001b[0;34m:\u001b[0m\u001b[0;34m\u001b[0m\u001b[0;34m\u001b[0m\u001b[0m\n\u001b[1;32m    547\u001b[0m           outputs = execute.execute_with_cancellation(\n",
      "\u001b[0;32m~/.conda/envs/DL/lib/python3.7/site-packages/tensorflow_core/python/eager/execute.py\u001b[0m in \u001b[0;36mquick_execute\u001b[0;34m(op_name, num_outputs, inputs, attrs, ctx, name)\u001b[0m\n\u001b[1;32m     59\u001b[0m     tensors = pywrap_tensorflow.TFE_Py_Execute(ctx._handle, device_name,\n\u001b[1;32m     60\u001b[0m                                                \u001b[0mop_name\u001b[0m\u001b[0;34m,\u001b[0m \u001b[0minputs\u001b[0m\u001b[0;34m,\u001b[0m \u001b[0mattrs\u001b[0m\u001b[0;34m,\u001b[0m\u001b[0;34m\u001b[0m\u001b[0;34m\u001b[0m\u001b[0m\n\u001b[0;32m---> 61\u001b[0;31m                                                num_outputs)\n\u001b[0m\u001b[1;32m     62\u001b[0m   \u001b[0;32mexcept\u001b[0m \u001b[0mcore\u001b[0m\u001b[0;34m.\u001b[0m\u001b[0m_NotOkStatusException\u001b[0m \u001b[0;32mas\u001b[0m \u001b[0me\u001b[0m\u001b[0;34m:\u001b[0m\u001b[0;34m\u001b[0m\u001b[0;34m\u001b[0m\u001b[0m\n\u001b[1;32m     63\u001b[0m     \u001b[0;32mif\u001b[0m \u001b[0mname\u001b[0m \u001b[0;32mis\u001b[0m \u001b[0;32mnot\u001b[0m \u001b[0;32mNone\u001b[0m\u001b[0;34m:\u001b[0m\u001b[0;34m\u001b[0m\u001b[0;34m\u001b[0m\u001b[0m\n",
      "\u001b[0;31mKeyboardInterrupt\u001b[0m: "
     ]
    }
   ],
   "source": [
    "from __future__ import print_function\n",
    "\n",
    "import numpy as np\n",
    "import matplotlib.pyplot as plt\n",
    "import keras\n",
    "from keras.datasets import reuters\n",
    "from keras.models import Sequential\n",
    "from keras.layers import Dense, Activation, Dropout\n",
    "from keras.layers.noise import AlphaDropout\n",
    "from keras.preprocessing.text import Tokenizer\n",
    "\n",
    "max_words = 1000\n",
    "batch_size = 16\n",
    "epochs = 40\n",
    "plot = True\n",
    "\n",
    "def create_network(n_dense=6,\n",
    "                   dense_units=16,\n",
    "                   activation='selu',\n",
    "                   dropout=AlphaDropout,\n",
    "                   dropout_rate=0.1,\n",
    "                   kernel_initializer='lecun_normal',\n",
    "                   optimizer='adam',\n",
    "                   num_classes=1,\n",
    "                   max_words=max_words):\n",
    "    \"\"\"Generic function to create a fully-connected neural network.\n",
    "    # Arguments\n",
    "        n_dense: int > 0. Number of dense layers.\n",
    "        dense_units: int > 0. Number of dense units per layer.\n",
    "        dropout: keras.layers.Layer. A dropout layer to apply.\n",
    "        dropout_rate: 0 <= float <= 1. The rate of dropout.\n",
    "        kernel_initializer: str. The initializer for the weights.\n",
    "        optimizer: str/keras.optimizers.Optimizer. The optimizer to use.\n",
    "        num_classes: int > 0. The number of classes to predict.\n",
    "        max_words: int > 0. The maximum number of words per data point.\n",
    "    # Returns\n",
    "        A Keras model instance (compiled).\n",
    "    \"\"\"\n",
    "    model = Sequential()\n",
    "    model.add(Dense(dense_units, input_shape=(max_words,),\n",
    "                    kernel_initializer=kernel_initializer))\n",
    "    model.add(Activation(activation))\n",
    "    model.add(dropout(dropout_rate))\n",
    "\n",
    "    for i in range(n_dense - 1):\n",
    "        model.add(Dense(dense_units, kernel_initializer=kernel_initializer))\n",
    "        model.add(Activation(activation))\n",
    "        model.add(dropout(dropout_rate))\n",
    "\n",
    "    model.add(Dense(num_classes))\n",
    "    model.add(Activation('softmax'))\n",
    "    model.compile(loss='categorical_crossentropy',\n",
    "                  optimizer=optimizer,\n",
    "                  metrics=['accuracy'])\n",
    "    return model\n",
    "\n",
    "\n",
    "network1 = {\n",
    "    'n_dense': 6,\n",
    "    'dense_units': 16,\n",
    "    'activation': 'relu',\n",
    "    'dropout': Dropout,\n",
    "    'dropout_rate': 0.5,\n",
    "    'kernel_initializer': 'glorot_uniform',\n",
    "    'optimizer': 'sgd'\n",
    "}\n",
    "\n",
    "network2 = {\n",
    "    'n_dense': 6,\n",
    "    'dense_units': 16,\n",
    "    'activation': 'selu',\n",
    "    'dropout': AlphaDropout,\n",
    "    'dropout_rate': 0.1,\n",
    "    'kernel_initializer': 'lecun_normal',\n",
    "    'optimizer': 'sgd'\n",
    "}\n",
    "\n",
    "print('Loading data...')\n",
    "(x_train, y_train), (x_test, y_test) = reuters.load_data(num_words=max_words,\n",
    "                                                         test_split=0.2)\n",
    "\n",
    "print(np.unique(y_test))\n",
    "    \n",
    "#from keras.datasets import imdb\n",
    "#(x_train, y_train), (x_test, y_test) = imdb.load_data(num_words=max_words)#,\n",
    "                                                         #test_split=0.2)\n",
    "\n",
    "    \n",
    "#(x_train, y_train), (x_test, y_test) = imdb.load_data(num_words=max_words)\n",
    "#(train_data, train_labels), (test_data, test_labels) = imdb.load_data(num_words=10000)\n",
    "\n",
    "#XX,yy = imdb.load_data(num_words=max_words)#,\n",
    "\n",
    "#x_train, y_train, x_test, y_test = train_test_split(XX, yy, test_size=0.2, random_state = 42)\n",
    "\n",
    "\n",
    "print(len(x_train), 'train sequences')\n",
    "print(len(x_test), 'test sequences')\n",
    "\n",
    "num_classes = np.max(y_train) + 1\n",
    "print(num_classes, 'classes')\n",
    "\n",
    "print('Vectorizing sequence data...')\n",
    "tokenizer = Tokenizer(num_words=max_words)\n",
    "x_train = tokenizer.sequences_to_matrix(x_train, mode='binary')\n",
    "x_test = tokenizer.sequences_to_matrix(x_test, mode='binary')\n",
    "print('x_train shape:', x_train.shape)\n",
    "print('x_test shape:', x_test.shape)\n",
    "\n",
    "print('Convert class vector to binary class matrix '\n",
    "      '(for use with categorical_crossentropy)')\n",
    "y_train = keras.utils.to_categorical(y_train, num_classes)\n",
    "y_test = keras.utils.to_categorical(y_test, num_classes)\n",
    "print('y_train shape:', y_train.shape)\n",
    "print('y_test shape:', y_test.shape)\n",
    "\n",
    "print('\\nBuilding network 1...')\n",
    "\n",
    "model1 = create_network(num_classes=num_classes, **network1)\n",
    "history_model1 = model1.fit(x_train,\n",
    "                            y_train,\n",
    "                            batch_size=batch_size,\n",
    "                            epochs=epochs,\n",
    "                            verbose=1,\n",
    "                            validation_split=0.1)\n",
    "\n",
    "score_model1 = model1.evaluate(x_test,\n",
    "                               y_test,\n",
    "                               batch_size=batch_size,\n",
    "                               verbose=1)\n",
    "\n",
    "\n",
    "print('\\nBuilding network 2...')\n",
    "model2 = create_network(num_classes=num_classes, **network2)\n",
    "\n",
    "history_model2 = model2.fit(x_train,\n",
    "                            y_train,\n",
    "                            batch_size=batch_size,\n",
    "                            epochs=epochs,\n",
    "                            verbose=1,\n",
    "                            validation_split=0.1)\n",
    "\n",
    "score_model2 = model2.evaluate(x_test,\n",
    "                               y_test,\n",
    "                               batch_size=batch_size,\n",
    "                               verbose=1)\n",
    "\n",
    "print('\\nNetwork 1 results')\n",
    "print('Hyperparameters:', network1)\n",
    "print('Test score:', score_model1[0])\n",
    "print('Test accuracy:', score_model1[1])\n",
    "print('Network 2 results')\n",
    "print('Hyperparameters:', network2)\n",
    "print('Test score:', score_model2[0])\n",
    "print('Test accuracy:', score_model2[1])\n",
    "\n",
    "plt.plot(range(epochs),\n",
    "         history_model1.history['val_loss'],\n",
    "         'g-',\n",
    "         label='Network 1 Val Loss')\n",
    "plt.plot(range(epochs),\n",
    "         history_model2.history['val_loss'],\n",
    "         'r-',\n",
    "         label='Network 2 Val Loss')\n",
    "plt.plot(range(epochs),\n",
    "         history_model1.history['loss'],\n",
    "         'g--',\n",
    "         label='Network 1 Loss')\n",
    "plt.plot(range(epochs),\n",
    "         history_model2.history['loss'],\n",
    "         'r--',\n",
    "         label='Network 2 Loss')\n",
    "plt.xlabel('Epochs')\n",
    "plt.ylabel('Loss')\n",
    "plt.legend()\n",
    "plt.savefig('comparison_of_networks.png')"
   ]
  },
  {
   "cell_type": "markdown",
   "metadata": {},
   "source": [
    "## IMDB\n",
    "* Rede Neural para predição binária\n",
    "* Avaliando Dropout\n"
   ]
  },
  {
   "cell_type": "code",
   "execution_count": 76,
   "metadata": {},
   "outputs": [],
   "source": [
    "from keras.datasets import imdb\n",
    "(train_data, train_labels), (test_data, test_labels) = imdb.load_data(num_words=10000)"
   ]
  },
  {
   "cell_type": "code",
   "execution_count": 77,
   "metadata": {},
   "outputs": [],
   "source": [
    "word_index = imdb.get_word_index()\n",
    "reverse_word_index = dict(\n",
    "     [(value, key) for (key, value) in word_index.items()])\n",
    "\n",
    "decoded_review = ' '.join(\n",
    "    [reverse_word_index.get(i - 3, '?') for i in train_data[0]])"
   ]
  },
  {
   "cell_type": "code",
   "execution_count": 79,
   "metadata": {},
   "outputs": [
    {
     "name": "stdout",
     "output_type": "stream",
     "text": [
      "? this film was just brilliant casting location scenery story direction everyone's really suited the part they played and you could just imagine being there robert ? is an amazing actor and now the same being director ? father came from the same scottish island as myself so i loved the fact there was a real connection with this film the witty remarks throughout the film were great it was just brilliant so much that i bought the film as soon as it was released for ? and would recommend it to everyone to watch and the fly fishing was amazing really cried at the end it was so sad and you know what they say if you cry at a film it must have been good and this definitely was also ? to the two little boy's that played the ? of norman and paul they were just brilliant children are often left out of the ? list i think because the stars that play them all grown up are such a big profile for the whole film but these children are amazing and should be praised for what they have done don't you think the whole story was so lovely because it was true and was someone's life after all that was shared with us all\n"
     ]
    }
   ],
   "source": [
    "print(decoded_review)"
   ]
  },
  {
   "cell_type": "code",
   "execution_count": 80,
   "metadata": {},
   "outputs": [],
   "source": [
    "import numpy as np\n",
    "def vectorize_sequences(sequences, dimension=10000):\n",
    "    results = np.zeros((len(sequences), dimension))\n",
    "    for i, sequence in enumerate(sequences):\n",
    "          results[i, sequence] = 1.\n",
    "    return results\n",
    "x_train = vectorize_sequences(train_data)\n",
    "x_test = vectorize_sequences(test_data)"
   ]
  },
  {
   "cell_type": "code",
   "execution_count": 81,
   "metadata": {},
   "outputs": [],
   "source": [
    "y_train = np.asarray(train_labels).astype('float32')\n",
    "y_test = np.asarray(test_labels).astype('float32')"
   ]
  },
  {
   "cell_type": "code",
   "execution_count": 82,
   "metadata": {},
   "outputs": [],
   "source": [
    "#from keras import models\n",
    "#from keras import layers\n",
    "model = Sequential()\n",
    "model.add(Dense(16, activation='relu', input_shape=(10000,)))\n",
    "model.add(Dense(16, activation='relu'))\n",
    "model.add(Dense(1, activation='sigmoid'))"
   ]
  },
  {
   "cell_type": "code",
   "execution_count": 83,
   "metadata": {},
   "outputs": [],
   "source": [
    "model.compile(optimizer='rmsprop',\n",
    "                      loss='binary_crossentropy',\n",
    "                      metrics=['accuracy'])"
   ]
  },
  {
   "cell_type": "markdown",
   "metadata": {},
   "source": [
    "Para monitorar durante o treinamento a precisão do modelo em dados nunca antes vistos, \n",
    "você cria um conjunto de validação separando 10.000 amostras dos dados de treinamento originais.\n"
   ]
  },
  {
   "cell_type": "code",
   "execution_count": 84,
   "metadata": {},
   "outputs": [],
   "source": [
    "x_val = x_train[:10000]\n",
    "partial_x_train = x_train[10000:]\n",
    "y_val = y_train[:10000]\n",
    "partial_y_train = y_train[10000:]\n"
   ]
  },
  {
   "cell_type": "code",
   "execution_count": 85,
   "metadata": {},
   "outputs": [
    {
     "name": "stdout",
     "output_type": "stream",
     "text": [
      "Train on 15000 samples, validate on 10000 samples\n",
      "Epoch 1/20\n",
      "15000/15000 [==============================] - 2s 118us/sample - loss: 0.4954 - acc: 0.7939 - val_loss: 0.3676 - val_acc: 0.8762\n",
      "Epoch 2/20\n",
      "15000/15000 [==============================] - 1s 70us/sample - loss: 0.2954 - acc: 0.9049 - val_loss: 0.3035 - val_acc: 0.8892\n",
      "Epoch 3/20\n",
      "15000/15000 [==============================] - 1s 69us/sample - loss: 0.2197 - acc: 0.9267 - val_loss: 0.2896 - val_acc: 0.8824\n",
      "Epoch 4/20\n",
      "15000/15000 [==============================] - 1s 87us/sample - loss: 0.1719 - acc: 0.9462 - val_loss: 0.2846 - val_acc: 0.8863\n",
      "Epoch 5/20\n",
      "15000/15000 [==============================] - 1s 74us/sample - loss: 0.1389 - acc: 0.9567 - val_loss: 0.2955 - val_acc: 0.8828\n",
      "Epoch 6/20\n",
      "15000/15000 [==============================] - 2s 106us/sample - loss: 0.1147 - acc: 0.9645 - val_loss: 0.3012 - val_acc: 0.8823\n",
      "Epoch 7/20\n",
      "15000/15000 [==============================] - 2s 112us/sample - loss: 0.0940 - acc: 0.9720 - val_loss: 0.3127 - val_acc: 0.8815\n",
      "Epoch 8/20\n",
      "15000/15000 [==============================] - 2s 128us/sample - loss: 0.0778 - acc: 0.9783 - val_loss: 0.3342 - val_acc: 0.8818\n",
      "Epoch 9/20\n",
      "15000/15000 [==============================] - 2s 114us/sample - loss: 0.0628 - acc: 0.9833 - val_loss: 0.3583 - val_acc: 0.8766\n",
      "Epoch 10/20\n",
      "15000/15000 [==============================] - 1s 91us/sample - loss: 0.0510 - acc: 0.9889 - val_loss: 0.3809 - val_acc: 0.8772\n",
      "Epoch 11/20\n",
      "15000/15000 [==============================] - 1s 95us/sample - loss: 0.0433 - acc: 0.9901 - val_loss: 0.4092 - val_acc: 0.8747\n",
      "Epoch 12/20\n",
      "15000/15000 [==============================] - 2s 116us/sample - loss: 0.0332 - acc: 0.9933 - val_loss: 0.4411 - val_acc: 0.8757\n",
      "Epoch 13/20\n",
      "15000/15000 [==============================] - 2s 125us/sample - loss: 0.0285 - acc: 0.9945 - val_loss: 0.4674 - val_acc: 0.8718\n",
      "Epoch 14/20\n",
      "15000/15000 [==============================] - 2s 116us/sample - loss: 0.0186 - acc: 0.9977 - val_loss: 0.5043 - val_acc: 0.8700\n",
      "Epoch 15/20\n",
      "15000/15000 [==============================] - 1s 94us/sample - loss: 0.0189 - acc: 0.9965 - val_loss: 0.5371 - val_acc: 0.8692\n",
      "Epoch 16/20\n",
      "15000/15000 [==============================] - 1s 75us/sample - loss: 0.0168 - acc: 0.9969 - val_loss: 0.5618 - val_acc: 0.8687\n",
      "Epoch 17/20\n",
      "15000/15000 [==============================] - 1s 71us/sample - loss: 0.0092 - acc: 0.9995 - val_loss: 0.6832 - val_acc: 0.8551\n",
      "Epoch 18/20\n",
      "15000/15000 [==============================] - 1s 73us/sample - loss: 0.0071 - acc: 0.9998 - val_loss: 0.6499 - val_acc: 0.8655\n",
      "Epoch 19/20\n",
      "15000/15000 [==============================] - 2s 105us/sample - loss: 0.0093 - acc: 0.9985 - val_loss: 0.6628 - val_acc: 0.8652\n",
      "Epoch 20/20\n",
      "15000/15000 [==============================] - 2s 117us/sample - loss: 0.0046 - acc: 0.9997 - val_loss: 0.6873 - val_acc: 0.8651\n"
     ]
    }
   ],
   "source": [
    "model.compile(optimizer='rmsprop',\n",
    "              loss='binary_crossentropy',\n",
    "              metrics=['acc'])\n",
    "history = model.fit(partial_x_train,\n",
    "                    partial_y_train,\n",
    "                    epochs=20,\n",
    "                    batch_size=512,\n",
    "                    validation_data=(x_val, y_val))\n"
   ]
  },
  {
   "cell_type": "code",
   "execution_count": 86,
   "metadata": {},
   "outputs": [
    {
     "data": {
      "image/png": "[encoded data removed]",
      "text/plain": [
       "<Figure size 432x288 with 1 Axes>"
      ]
     },
     "metadata": {
      "needs_background": "light"
     },
     "output_type": "display_data"
    }
   ],
   "source": [
    "loss = history.history['loss']\n",
    "val_loss = history.history['val_loss']\n",
    "epochs = range(1, len(loss) + 1)\n",
    "plt.plot(epochs, loss, 'bo', label='Training loss')\n",
    "plt.plot(epochs, val_loss, 'b', label='Validation loss')\n",
    "plt.title('Training and validation loss')\n",
    "plt.xlabel('Epochs')\n",
    "plt.ylabel('Loss')\n",
    "plt.legend()\n",
    "plt.show()"
   ]
  },
  {
   "cell_type": "code",
   "execution_count": 91,
   "metadata": {},
   "outputs": [
    {
     "data": {
      "image/png": "[encoded data removed]",
      "text/plain": [
       "<Figure size 432x288 with 1 Axes>"
      ]
     },
     "metadata": {
      "needs_background": "light"
     },
     "output_type": "display_data"
    }
   ],
   "source": [
    "acc = history.history['acc']\n",
    "val_acc = history.history['val_acc']\n",
    "plt.plot(epochs, acc, 'bo', label='Training acc')\n",
    "plt.plot(epochs, val_acc, 'b', label='Validation acc')\n",
    "plt.title('Training and validation accuracy')\n",
    "plt.xlabel('Epochs')\n",
    "plt.ylabel('accuracy')\n",
    "plt.legend()\n",
    "plt.show()"
   ]
  },
  {
   "cell_type": "code",
   "execution_count": 88,
   "metadata": {},
   "outputs": [
    {
     "name": "stdout",
     "output_type": "stream",
     "text": [
      "Train on 15000 samples, validate on 10000 samples\n",
      "Epoch 1/20\n",
      "15000/15000 [==============================] - 2s 130us/step - loss: 0.6286 - acc: 0.6459 - val_loss: 0.5163 - val_acc: 0.8427\n",
      "Epoch 2/20\n",
      "15000/15000 [==============================] - 1s 100us/step - loss: 0.5093 - acc: 0.7737 - val_loss: 0.4041 - val_acc: 0.8723\n",
      "Epoch 3/20\n",
      "15000/15000 [==============================] - 2s 101us/step - loss: 0.4259 - acc: 0.8254 - val_loss: 0.3442 - val_acc: 0.8830\n",
      "Epoch 4/20\n",
      "15000/15000 [==============================] - 2s 110us/step - loss: 0.3562 - acc: 0.8661 - val_loss: 0.3018 - val_acc: 0.8872\n",
      "Epoch 5/20\n",
      "15000/15000 [==============================] - 1s 90us/step - loss: 0.2986 - acc: 0.8939 - val_loss: 0.2775 - val_acc: 0.8905\n",
      "Epoch 6/20\n",
      "15000/15000 [==============================] - 1s 100us/step - loss: 0.2647 - acc: 0.9091 - val_loss: 0.2753 - val_acc: 0.8907\n",
      "Epoch 7/20\n",
      "15000/15000 [==============================] - 1s 89us/step - loss: 0.2326 - acc: 0.9236 - val_loss: 0.2723 - val_acc: 0.8899\n",
      "Epoch 8/20\n",
      "15000/15000 [==============================] - 1s 90us/step - loss: 0.2063 - acc: 0.9339 - val_loss: 0.2786 - val_acc: 0.8921\n",
      "Epoch 9/20\n",
      "15000/15000 [==============================] - 1s 94us/step - loss: 0.1810 - acc: 0.9412 - val_loss: 0.2992 - val_acc: 0.8883\n",
      "Epoch 10/20\n",
      "15000/15000 [==============================] - 2s 104us/step - loss: 0.1615 - acc: 0.9500 - val_loss: 0.3072 - val_acc: 0.8907\n",
      "Epoch 11/20\n",
      "15000/15000 [==============================] - 2s 104us/step - loss: 0.1481 - acc: 0.9525 - val_loss: 0.3345 - val_acc: 0.8886\n",
      "Epoch 12/20\n",
      "15000/15000 [==============================] - 1s 92us/step - loss: 0.1318 - acc: 0.9584 - val_loss: 0.3610 - val_acc: 0.8828\n",
      "Epoch 13/20\n",
      "15000/15000 [==============================] - 1s 93us/step - loss: 0.1218 - acc: 0.9615 - val_loss: 0.3820 - val_acc: 0.8871\n",
      "Epoch 14/20\n",
      "15000/15000 [==============================] - 1s 83us/step - loss: 0.1047 - acc: 0.9675 - val_loss: 0.4010 - val_acc: 0.8843\n",
      "Epoch 15/20\n",
      "15000/15000 [==============================] - 1s 80us/step - loss: 0.0994 - acc: 0.9681 - val_loss: 0.4309 - val_acc: 0.8871\n",
      "Epoch 16/20\n",
      "15000/15000 [==============================] - 1s 84us/step - loss: 0.0925 - acc: 0.9712 - val_loss: 0.4599 - val_acc: 0.8861\n",
      "Epoch 17/20\n",
      "15000/15000 [==============================] - 1s 87us/step - loss: 0.0811 - acc: 0.9749 - val_loss: 0.4742 - val_acc: 0.8840\n",
      "Epoch 18/20\n",
      "15000/15000 [==============================] - 1s 97us/step - loss: 0.0852 - acc: 0.9728 - val_loss: 0.5096 - val_acc: 0.8846\n",
      "Epoch 19/20\n",
      "15000/15000 [==============================] - 1s 87us/step - loss: 0.0757 - acc: 0.9755 - val_loss: 0.5367 - val_acc: 0.8829\n",
      "Epoch 20/20\n",
      "15000/15000 [==============================] - 1s 82us/step - loss: 0.0728 - acc: 0.9754 - val_loss: 0.5527 - val_acc: 0.8819\n"
     ]
    }
   ],
   "source": [
    "model = models.Sequential()\n",
    "model.add(layers.Dense(16, activation='relu', input_shape=(10000,)))\n",
    "model.add(layers.Dropout(0.5))\n",
    "model.add(layers.Dense(16, activation='relu'))\n",
    "model.add(layers.Dropout(0.5))\n",
    "model.add(layers.Dense(1, activation='sigmoid'))\n",
    "\n",
    "model.compile(optimizer='rmsprop',\n",
    "              loss='binary_crossentropy',\n",
    "              metrics=['acc'])\n",
    "history = model.fit(partial_x_train,\n",
    "                    partial_y_train,\n",
    "                    epochs=20,\n",
    "                    batch_size=512,\n",
    "                    validation_data=(x_val, y_val))"
   ]
  },
  {
   "cell_type": "code",
   "execution_count": 89,
   "metadata": {},
   "outputs": [
    {
     "data": {
      "image/png": "[encoded data removed]",
      "text/plain": [
       "<Figure size 432x288 with 1 Axes>"
      ]
     },
     "metadata": {
      "needs_background": "light"
     },
     "output_type": "display_data"
    }
   ],
   "source": [
    "loss = history.history['loss']\n",
    "val_loss = history.history['val_loss']\n",
    "epochs = range(1, len(loss) + 1)\n",
    "plt.plot(epochs, loss, 'bo', label='Training loss')\n",
    "plt.plot(epochs, val_loss, 'b', label='Validation loss')\n",
    "plt.title('Training and validation loss')\n",
    "plt.xlabel('Epochs')\n",
    "plt.ylabel('Loss')\n",
    "plt.legend()\n",
    "plt.show()"
   ]
  },
  {
   "cell_type": "code",
   "execution_count": 90,
   "metadata": {},
   "outputs": [
    {
     "data": {
      "image/png": "[encoded data removed]",
      "text/plain": [
       "<Figure size 432x288 with 1 Axes>"
      ]
     },
     "metadata": {
      "needs_background": "light"
     },
     "output_type": "display_data"
    }
   ],
   "source": [
    "acc = history.history['acc']\n",
    "val_acc = history.history['val_acc']\n",
    "plt.plot(epochs, acc, 'bo', label='Training acc')\n",
    "plt.plot(epochs, val_acc, 'b', label='Validation acc')\n",
    "plt.title('Training and validation accuracy')\n",
    "plt.xlabel('Epochs')\n",
    "plt.ylabel('Loss')\n",
    "plt.legend()\n",
    "plt.show()"
   ]
  },
  {
   "cell_type": "code",
   "execution_count": null,
   "metadata": {},
   "outputs": [],
   "source": []
  }
 ],
 "metadata": {
  "kernelspec": {
   "display_name": "Python 3",
   "language": "python",
   "name": "python3"
  },
  "language_info": {
   "codemirror_mode": {
    "name": "ipython",
    "version": 3
   },
   "file_extension": ".py",
   "mimetype": "text/x-python",
   "name": "python",
   "nbconvert_exporter": "python",
   "pygments_lexer": "ipython3",
   "version": "3.6.9"
  }
 },
 "nbformat": 4,
 "nbformat_minor": 4
}
